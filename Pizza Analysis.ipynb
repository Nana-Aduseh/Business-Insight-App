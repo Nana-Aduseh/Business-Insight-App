{
 "cells": [
  {
   "cell_type": "code",
   "execution_count": null,
   "id": "6a9d38b7",
   "metadata": {},
   "outputs": [],
   "source": []
  },
  {
   "cell_type": "markdown",
   "id": "fced58b7",
   "metadata": {},
   "source": [
    "## Pizza Place Sales\n",
    "A year's worth of sales from a fictitious pizza place, including the date and time of each order and the pizzas served, with additional details on the type, size, quantity, price, and ingredients.\n",
    "\n",
    "## Recommended Analysis\n",
    "- How many customers do we have each day? Are there any peak hours?\n",
    "\n",
    "- How many pizzas are typically in an order? Do we have any bestsellers?\n",
    "\n",
    "- How much money did we make this year? Can we indentify any seasonality in the sales?\n",
    "\n",
    "- Are there any pizzas we should take off the menu, or any promotions we could leverage?"
   ]
  },
  {
   "cell_type": "code",
   "execution_count": 1,
   "id": "145e83d3",
   "metadata": {},
   "outputs": [],
   "source": [
    "## first import libraries"
   ]
  },
  {
   "cell_type": "code",
   "execution_count": 2,
   "id": "235697f9",
   "metadata": {},
   "outputs": [],
   "source": [
    "import pandas as pd\n",
    "import matplotlib.pyplot as plt\n",
    "import seaborn as sns\n"
   ]
  },
  {
   "cell_type": "code",
   "execution_count": 3,
   "id": "d879e607",
   "metadata": {},
   "outputs": [
    {
     "data": {
      "text/html": [
       "<div>\n",
       "<style scoped>\n",
       "    .dataframe tbody tr th:only-of-type {\n",
       "        vertical-align: middle;\n",
       "    }\n",
       "\n",
       "    .dataframe tbody tr th {\n",
       "        vertical-align: top;\n",
       "    }\n",
       "\n",
       "    .dataframe thead th {\n",
       "        text-align: right;\n",
       "    }\n",
       "</style>\n",
       "<table border=\"1\" class=\"dataframe\">\n",
       "  <thead>\n",
       "    <tr style=\"text-align: right;\">\n",
       "      <th></th>\n",
       "      <th>order_id</th>\n",
       "      <th>date</th>\n",
       "      <th>time</th>\n",
       "    </tr>\n",
       "  </thead>\n",
       "  <tbody>\n",
       "    <tr>\n",
       "      <th>0</th>\n",
       "      <td>1</td>\n",
       "      <td>2015-01-01</td>\n",
       "      <td>11:38:36</td>\n",
       "    </tr>\n",
       "    <tr>\n",
       "      <th>1</th>\n",
       "      <td>2</td>\n",
       "      <td>2015-01-01</td>\n",
       "      <td>11:57:40</td>\n",
       "    </tr>\n",
       "    <tr>\n",
       "      <th>2</th>\n",
       "      <td>3</td>\n",
       "      <td>2015-01-01</td>\n",
       "      <td>12:12:28</td>\n",
       "    </tr>\n",
       "    <tr>\n",
       "      <th>3</th>\n",
       "      <td>4</td>\n",
       "      <td>2015-01-01</td>\n",
       "      <td>12:16:31</td>\n",
       "    </tr>\n",
       "    <tr>\n",
       "      <th>4</th>\n",
       "      <td>5</td>\n",
       "      <td>2015-01-01</td>\n",
       "      <td>12:21:30</td>\n",
       "    </tr>\n",
       "  </tbody>\n",
       "</table>\n",
       "</div>"
      ],
      "text/plain": [
       "   order_id        date      time\n",
       "0         1  2015-01-01  11:38:36\n",
       "1         2  2015-01-01  11:57:40\n",
       "2         3  2015-01-01  12:12:28\n",
       "3         4  2015-01-01  12:16:31\n",
       "4         5  2015-01-01  12:21:30"
      ]
     },
     "execution_count": 3,
     "metadata": {},
     "output_type": "execute_result"
    }
   ],
   "source": [
    "order = pd.read_csv('orders.csv')\n",
    "order.head()"
   ]
  },
  {
   "cell_type": "code",
   "execution_count": 4,
   "id": "17551638",
   "metadata": {},
   "outputs": [
    {
     "data": {
      "text/html": [
       "<div>\n",
       "<style scoped>\n",
       "    .dataframe tbody tr th:only-of-type {\n",
       "        vertical-align: middle;\n",
       "    }\n",
       "\n",
       "    .dataframe tbody tr th {\n",
       "        vertical-align: top;\n",
       "    }\n",
       "\n",
       "    .dataframe thead th {\n",
       "        text-align: right;\n",
       "    }\n",
       "</style>\n",
       "<table border=\"1\" class=\"dataframe\">\n",
       "  <thead>\n",
       "    <tr style=\"text-align: right;\">\n",
       "      <th></th>\n",
       "      <th>order_details_id</th>\n",
       "      <th>order_id</th>\n",
       "      <th>pizza_id</th>\n",
       "      <th>quantity</th>\n",
       "    </tr>\n",
       "  </thead>\n",
       "  <tbody>\n",
       "    <tr>\n",
       "      <th>0</th>\n",
       "      <td>1</td>\n",
       "      <td>1</td>\n",
       "      <td>hawaiian_m</td>\n",
       "      <td>1</td>\n",
       "    </tr>\n",
       "    <tr>\n",
       "      <th>1</th>\n",
       "      <td>2</td>\n",
       "      <td>2</td>\n",
       "      <td>classic_dlx_m</td>\n",
       "      <td>1</td>\n",
       "    </tr>\n",
       "    <tr>\n",
       "      <th>2</th>\n",
       "      <td>3</td>\n",
       "      <td>2</td>\n",
       "      <td>five_cheese_l</td>\n",
       "      <td>1</td>\n",
       "    </tr>\n",
       "    <tr>\n",
       "      <th>3</th>\n",
       "      <td>4</td>\n",
       "      <td>2</td>\n",
       "      <td>ital_supr_l</td>\n",
       "      <td>1</td>\n",
       "    </tr>\n",
       "    <tr>\n",
       "      <th>4</th>\n",
       "      <td>5</td>\n",
       "      <td>2</td>\n",
       "      <td>mexicana_m</td>\n",
       "      <td>1</td>\n",
       "    </tr>\n",
       "  </tbody>\n",
       "</table>\n",
       "</div>"
      ],
      "text/plain": [
       "   order_details_id  order_id       pizza_id  quantity\n",
       "0                 1         1     hawaiian_m         1\n",
       "1                 2         2  classic_dlx_m         1\n",
       "2                 3         2  five_cheese_l         1\n",
       "3                 4         2    ital_supr_l         1\n",
       "4                 5         2     mexicana_m         1"
      ]
     },
     "execution_count": 4,
     "metadata": {},
     "output_type": "execute_result"
    }
   ],
   "source": [
    "order_details = pd.read_csv('order_details.csv')\n",
    "order_details.head()"
   ]
  },
  {
   "cell_type": "code",
   "execution_count": 5,
   "id": "9f02e8dd",
   "metadata": {},
   "outputs": [
    {
     "data": {
      "text/html": [
       "<div>\n",
       "<style scoped>\n",
       "    .dataframe tbody tr th:only-of-type {\n",
       "        vertical-align: middle;\n",
       "    }\n",
       "\n",
       "    .dataframe tbody tr th {\n",
       "        vertical-align: top;\n",
       "    }\n",
       "\n",
       "    .dataframe thead th {\n",
       "        text-align: right;\n",
       "    }\n",
       "</style>\n",
       "<table border=\"1\" class=\"dataframe\">\n",
       "  <thead>\n",
       "    <tr style=\"text-align: right;\">\n",
       "      <th></th>\n",
       "      <th>pizza_id</th>\n",
       "      <th>pizza_type_id</th>\n",
       "      <th>size</th>\n",
       "      <th>price</th>\n",
       "    </tr>\n",
       "  </thead>\n",
       "  <tbody>\n",
       "    <tr>\n",
       "      <th>0</th>\n",
       "      <td>bbq_ckn_s</td>\n",
       "      <td>bbq_ckn</td>\n",
       "      <td>S</td>\n",
       "      <td>12.75</td>\n",
       "    </tr>\n",
       "    <tr>\n",
       "      <th>1</th>\n",
       "      <td>bbq_ckn_m</td>\n",
       "      <td>bbq_ckn</td>\n",
       "      <td>M</td>\n",
       "      <td>16.75</td>\n",
       "    </tr>\n",
       "    <tr>\n",
       "      <th>2</th>\n",
       "      <td>bbq_ckn_l</td>\n",
       "      <td>bbq_ckn</td>\n",
       "      <td>L</td>\n",
       "      <td>20.75</td>\n",
       "    </tr>\n",
       "    <tr>\n",
       "      <th>3</th>\n",
       "      <td>cali_ckn_s</td>\n",
       "      <td>cali_ckn</td>\n",
       "      <td>S</td>\n",
       "      <td>12.75</td>\n",
       "    </tr>\n",
       "    <tr>\n",
       "      <th>4</th>\n",
       "      <td>cali_ckn_m</td>\n",
       "      <td>cali_ckn</td>\n",
       "      <td>M</td>\n",
       "      <td>16.75</td>\n",
       "    </tr>\n",
       "  </tbody>\n",
       "</table>\n",
       "</div>"
      ],
      "text/plain": [
       "     pizza_id pizza_type_id size  price\n",
       "0   bbq_ckn_s       bbq_ckn    S  12.75\n",
       "1   bbq_ckn_m       bbq_ckn    M  16.75\n",
       "2   bbq_ckn_l       bbq_ckn    L  20.75\n",
       "3  cali_ckn_s      cali_ckn    S  12.75\n",
       "4  cali_ckn_m      cali_ckn    M  16.75"
      ]
     },
     "execution_count": 5,
     "metadata": {},
     "output_type": "execute_result"
    }
   ],
   "source": [
    "pizza = pd.read_csv('pizzas.csv')\n",
    "pizza.head()"
   ]
  },
  {
   "cell_type": "code",
   "execution_count": 6,
   "id": "e0d4f324",
   "metadata": {},
   "outputs": [
    {
     "data": {
      "text/html": [
       "<div>\n",
       "<style scoped>\n",
       "    .dataframe tbody tr th:only-of-type {\n",
       "        vertical-align: middle;\n",
       "    }\n",
       "\n",
       "    .dataframe tbody tr th {\n",
       "        vertical-align: top;\n",
       "    }\n",
       "\n",
       "    .dataframe thead th {\n",
       "        text-align: right;\n",
       "    }\n",
       "</style>\n",
       "<table border=\"1\" class=\"dataframe\">\n",
       "  <thead>\n",
       "    <tr style=\"text-align: right;\">\n",
       "      <th></th>\n",
       "      <th>pizza_type_id</th>\n",
       "      <th>name</th>\n",
       "      <th>category</th>\n",
       "      <th>ingredients</th>\n",
       "    </tr>\n",
       "  </thead>\n",
       "  <tbody>\n",
       "    <tr>\n",
       "      <th>0</th>\n",
       "      <td>bbq_ckn</td>\n",
       "      <td>The Barbecue Chicken Pizza</td>\n",
       "      <td>Chicken</td>\n",
       "      <td>Barbecued Chicken, Red Peppers, Green Peppers,...</td>\n",
       "    </tr>\n",
       "    <tr>\n",
       "      <th>1</th>\n",
       "      <td>cali_ckn</td>\n",
       "      <td>The California Chicken Pizza</td>\n",
       "      <td>Chicken</td>\n",
       "      <td>Chicken, Artichoke, Spinach, Garlic, Jalapeno ...</td>\n",
       "    </tr>\n",
       "    <tr>\n",
       "      <th>2</th>\n",
       "      <td>ckn_alfredo</td>\n",
       "      <td>The Chicken Alfredo Pizza</td>\n",
       "      <td>Chicken</td>\n",
       "      <td>Chicken, Red Onions, Red Peppers, Mushrooms, A...</td>\n",
       "    </tr>\n",
       "    <tr>\n",
       "      <th>3</th>\n",
       "      <td>ckn_pesto</td>\n",
       "      <td>The Chicken Pesto Pizza</td>\n",
       "      <td>Chicken</td>\n",
       "      <td>Chicken, Tomatoes, Red Peppers, Spinach, Garli...</td>\n",
       "    </tr>\n",
       "    <tr>\n",
       "      <th>4</th>\n",
       "      <td>southw_ckn</td>\n",
       "      <td>The Southwest Chicken Pizza</td>\n",
       "      <td>Chicken</td>\n",
       "      <td>Chicken, Tomatoes, Red Peppers, Red Onions, Ja...</td>\n",
       "    </tr>\n",
       "  </tbody>\n",
       "</table>\n",
       "</div>"
      ],
      "text/plain": [
       "  pizza_type_id                          name category  \\\n",
       "0       bbq_ckn    The Barbecue Chicken Pizza  Chicken   \n",
       "1      cali_ckn  The California Chicken Pizza  Chicken   \n",
       "2   ckn_alfredo     The Chicken Alfredo Pizza  Chicken   \n",
       "3     ckn_pesto       The Chicken Pesto Pizza  Chicken   \n",
       "4    southw_ckn   The Southwest Chicken Pizza  Chicken   \n",
       "\n",
       "                                         ingredients  \n",
       "0  Barbecued Chicken, Red Peppers, Green Peppers,...  \n",
       "1  Chicken, Artichoke, Spinach, Garlic, Jalapeno ...  \n",
       "2  Chicken, Red Onions, Red Peppers, Mushrooms, A...  \n",
       "3  Chicken, Tomatoes, Red Peppers, Spinach, Garli...  \n",
       "4  Chicken, Tomatoes, Red Peppers, Red Onions, Ja...  "
      ]
     },
     "execution_count": 6,
     "metadata": {},
     "output_type": "execute_result"
    }
   ],
   "source": [
    "pizza_types = pd.read_csv('pizza_types.csv',encoding='latin')\n",
    "pizza_types.head()      #had to add encoding=latin to remove the error"
   ]
  },
  {
   "cell_type": "code",
   "execution_count": 7,
   "id": "93e72b5c",
   "metadata": {},
   "outputs": [
    {
     "name": "stdout",
     "output_type": "stream",
     "text": [
      "<class 'pandas.core.frame.DataFrame'>\n",
      "RangeIndex: 21350 entries, 0 to 21349\n",
      "Data columns (total 3 columns):\n",
      " #   Column    Non-Null Count  Dtype \n",
      "---  ------    --------------  ----- \n",
      " 0   order_id  21350 non-null  int64 \n",
      " 1   date      21350 non-null  object\n",
      " 2   time      21350 non-null  object\n",
      "dtypes: int64(1), object(2)\n",
      "memory usage: 500.5+ KB\n"
     ]
    }
   ],
   "source": [
    "order.info()"
   ]
  },
  {
   "cell_type": "code",
   "execution_count": 8,
   "id": "30468ca5",
   "metadata": {},
   "outputs": [
    {
     "name": "stdout",
     "output_type": "stream",
     "text": [
      "<class 'pandas.core.frame.DataFrame'>\n",
      "RangeIndex: 48620 entries, 0 to 48619\n",
      "Data columns (total 4 columns):\n",
      " #   Column            Non-Null Count  Dtype \n",
      "---  ------            --------------  ----- \n",
      " 0   order_details_id  48620 non-null  int64 \n",
      " 1   order_id          48620 non-null  int64 \n",
      " 2   pizza_id          48620 non-null  object\n",
      " 3   quantity          48620 non-null  int64 \n",
      "dtypes: int64(3), object(1)\n",
      "memory usage: 1.5+ MB\n"
     ]
    }
   ],
   "source": [
    "order_details.info()"
   ]
  },
  {
   "cell_type": "code",
   "execution_count": 9,
   "id": "2b5d490f",
   "metadata": {},
   "outputs": [
    {
     "name": "stdout",
     "output_type": "stream",
     "text": [
      "<class 'pandas.core.frame.DataFrame'>\n",
      "RangeIndex: 96 entries, 0 to 95\n",
      "Data columns (total 4 columns):\n",
      " #   Column         Non-Null Count  Dtype  \n",
      "---  ------         --------------  -----  \n",
      " 0   pizza_id       96 non-null     object \n",
      " 1   pizza_type_id  96 non-null     object \n",
      " 2   size           96 non-null     object \n",
      " 3   price          96 non-null     float64\n",
      "dtypes: float64(1), object(3)\n",
      "memory usage: 3.1+ KB\n"
     ]
    }
   ],
   "source": [
    "pizza.info()"
   ]
  },
  {
   "cell_type": "code",
   "execution_count": 10,
   "id": "649766b6",
   "metadata": {},
   "outputs": [
    {
     "name": "stdout",
     "output_type": "stream",
     "text": [
      "<class 'pandas.core.frame.DataFrame'>\n",
      "RangeIndex: 32 entries, 0 to 31\n",
      "Data columns (total 4 columns):\n",
      " #   Column         Non-Null Count  Dtype \n",
      "---  ------         --------------  ----- \n",
      " 0   pizza_type_id  32 non-null     object\n",
      " 1   name           32 non-null     object\n",
      " 2   category       32 non-null     object\n",
      " 3   ingredients    32 non-null     object\n",
      "dtypes: object(4)\n",
      "memory usage: 1.1+ KB\n"
     ]
    }
   ],
   "source": [
    "pizza_types.info()"
   ]
  },
  {
   "cell_type": "code",
   "execution_count": 11,
   "id": "788ddb3f",
   "metadata": {},
   "outputs": [
    {
     "name": "stdout",
     "output_type": "stream",
     "text": [
      "Index(['order_id', 'date', 'time'], dtype='object')\n",
      "Index(['order_details_id', 'order_id', 'pizza_id', 'quantity'], dtype='object')\n",
      "Index(['pizza_id', 'pizza_type_id', 'size', 'price'], dtype='object')\n",
      "Index(['pizza_type_id', 'name', 'category', 'ingredients'], dtype='object')\n"
     ]
    }
   ],
   "source": [
    "print(order.columns)\n",
    "print(order_details.columns)\n",
    "print(pizza.columns)\n",
    "print(pizza_types.columns)"
   ]
  },
  {
   "cell_type": "code",
   "execution_count": 12,
   "id": "5caff63d",
   "metadata": {},
   "outputs": [
    {
     "data": {
      "text/html": [
       "<div>\n",
       "<style scoped>\n",
       "    .dataframe tbody tr th:only-of-type {\n",
       "        vertical-align: middle;\n",
       "    }\n",
       "\n",
       "    .dataframe tbody tr th {\n",
       "        vertical-align: top;\n",
       "    }\n",
       "\n",
       "    .dataframe thead th {\n",
       "        text-align: right;\n",
       "    }\n",
       "</style>\n",
       "<table border=\"1\" class=\"dataframe\">\n",
       "  <thead>\n",
       "    <tr style=\"text-align: right;\">\n",
       "      <th></th>\n",
       "      <th>order_id</th>\n",
       "      <th>date</th>\n",
       "      <th>time</th>\n",
       "      <th>order_details_id</th>\n",
       "      <th>pizza_id</th>\n",
       "      <th>quantity</th>\n",
       "    </tr>\n",
       "  </thead>\n",
       "  <tbody>\n",
       "    <tr>\n",
       "      <th>0</th>\n",
       "      <td>1</td>\n",
       "      <td>2015-01-01</td>\n",
       "      <td>11:38:36</td>\n",
       "      <td>1</td>\n",
       "      <td>hawaiian_m</td>\n",
       "      <td>1</td>\n",
       "    </tr>\n",
       "    <tr>\n",
       "      <th>1</th>\n",
       "      <td>2</td>\n",
       "      <td>2015-01-01</td>\n",
       "      <td>11:57:40</td>\n",
       "      <td>2</td>\n",
       "      <td>classic_dlx_m</td>\n",
       "      <td>1</td>\n",
       "    </tr>\n",
       "    <tr>\n",
       "      <th>2</th>\n",
       "      <td>2</td>\n",
       "      <td>2015-01-01</td>\n",
       "      <td>11:57:40</td>\n",
       "      <td>3</td>\n",
       "      <td>five_cheese_l</td>\n",
       "      <td>1</td>\n",
       "    </tr>\n",
       "    <tr>\n",
       "      <th>3</th>\n",
       "      <td>2</td>\n",
       "      <td>2015-01-01</td>\n",
       "      <td>11:57:40</td>\n",
       "      <td>4</td>\n",
       "      <td>ital_supr_l</td>\n",
       "      <td>1</td>\n",
       "    </tr>\n",
       "    <tr>\n",
       "      <th>4</th>\n",
       "      <td>2</td>\n",
       "      <td>2015-01-01</td>\n",
       "      <td>11:57:40</td>\n",
       "      <td>5</td>\n",
       "      <td>mexicana_m</td>\n",
       "      <td>1</td>\n",
       "    </tr>\n",
       "    <tr>\n",
       "      <th>...</th>\n",
       "      <td>...</td>\n",
       "      <td>...</td>\n",
       "      <td>...</td>\n",
       "      <td>...</td>\n",
       "      <td>...</td>\n",
       "      <td>...</td>\n",
       "    </tr>\n",
       "    <tr>\n",
       "      <th>48615</th>\n",
       "      <td>21348</td>\n",
       "      <td>2015-12-31</td>\n",
       "      <td>21:23:10</td>\n",
       "      <td>48616</td>\n",
       "      <td>ckn_alfredo_m</td>\n",
       "      <td>1</td>\n",
       "    </tr>\n",
       "    <tr>\n",
       "      <th>48616</th>\n",
       "      <td>21348</td>\n",
       "      <td>2015-12-31</td>\n",
       "      <td>21:23:10</td>\n",
       "      <td>48617</td>\n",
       "      <td>four_cheese_l</td>\n",
       "      <td>1</td>\n",
       "    </tr>\n",
       "    <tr>\n",
       "      <th>48617</th>\n",
       "      <td>21348</td>\n",
       "      <td>2015-12-31</td>\n",
       "      <td>21:23:10</td>\n",
       "      <td>48618</td>\n",
       "      <td>napolitana_s</td>\n",
       "      <td>1</td>\n",
       "    </tr>\n",
       "    <tr>\n",
       "      <th>48618</th>\n",
       "      <td>21349</td>\n",
       "      <td>2015-12-31</td>\n",
       "      <td>22:09:54</td>\n",
       "      <td>48619</td>\n",
       "      <td>mexicana_l</td>\n",
       "      <td>1</td>\n",
       "    </tr>\n",
       "    <tr>\n",
       "      <th>48619</th>\n",
       "      <td>21350</td>\n",
       "      <td>2015-12-31</td>\n",
       "      <td>23:02:05</td>\n",
       "      <td>48620</td>\n",
       "      <td>bbq_ckn_s</td>\n",
       "      <td>1</td>\n",
       "    </tr>\n",
       "  </tbody>\n",
       "</table>\n",
       "<p>48620 rows × 6 columns</p>\n",
       "</div>"
      ],
      "text/plain": [
       "       order_id        date      time  order_details_id       pizza_id  \\\n",
       "0             1  2015-01-01  11:38:36                 1     hawaiian_m   \n",
       "1             2  2015-01-01  11:57:40                 2  classic_dlx_m   \n",
       "2             2  2015-01-01  11:57:40                 3  five_cheese_l   \n",
       "3             2  2015-01-01  11:57:40                 4    ital_supr_l   \n",
       "4             2  2015-01-01  11:57:40                 5     mexicana_m   \n",
       "...         ...         ...       ...               ...            ...   \n",
       "48615     21348  2015-12-31  21:23:10             48616  ckn_alfredo_m   \n",
       "48616     21348  2015-12-31  21:23:10             48617  four_cheese_l   \n",
       "48617     21348  2015-12-31  21:23:10             48618   napolitana_s   \n",
       "48618     21349  2015-12-31  22:09:54             48619     mexicana_l   \n",
       "48619     21350  2015-12-31  23:02:05             48620      bbq_ckn_s   \n",
       "\n",
       "       quantity  \n",
       "0             1  \n",
       "1             1  \n",
       "2             1  \n",
       "3             1  \n",
       "4             1  \n",
       "...         ...  \n",
       "48615         1  \n",
       "48616         1  \n",
       "48617         1  \n",
       "48618         1  \n",
       "48619         1  \n",
       "\n",
       "[48620 rows x 6 columns]"
      ]
     },
     "execution_count": 12,
     "metadata": {},
     "output_type": "execute_result"
    }
   ],
   "source": [
    "order.merge(order_details,on='order_id')"
   ]
  },
  {
   "cell_type": "code",
   "execution_count": 13,
   "id": "74c22076",
   "metadata": {},
   "outputs": [
    {
     "data": {
      "text/html": [
       "<div>\n",
       "<style scoped>\n",
       "    .dataframe tbody tr th:only-of-type {\n",
       "        vertical-align: middle;\n",
       "    }\n",
       "\n",
       "    .dataframe tbody tr th {\n",
       "        vertical-align: top;\n",
       "    }\n",
       "\n",
       "    .dataframe thead th {\n",
       "        text-align: right;\n",
       "    }\n",
       "</style>\n",
       "<table border=\"1\" class=\"dataframe\">\n",
       "  <thead>\n",
       "    <tr style=\"text-align: right;\">\n",
       "      <th></th>\n",
       "      <th>order_id</th>\n",
       "      <th>date</th>\n",
       "      <th>time</th>\n",
       "      <th>order_details_id</th>\n",
       "      <th>pizza_id</th>\n",
       "      <th>quantity</th>\n",
       "      <th>pizza_type_id</th>\n",
       "      <th>size</th>\n",
       "      <th>price</th>\n",
       "    </tr>\n",
       "  </thead>\n",
       "  <tbody>\n",
       "    <tr>\n",
       "      <th>0</th>\n",
       "      <td>1</td>\n",
       "      <td>2015-01-01</td>\n",
       "      <td>11:38:36</td>\n",
       "      <td>1</td>\n",
       "      <td>hawaiian_m</td>\n",
       "      <td>1</td>\n",
       "      <td>hawaiian</td>\n",
       "      <td>M</td>\n",
       "      <td>13.25</td>\n",
       "    </tr>\n",
       "    <tr>\n",
       "      <th>1</th>\n",
       "      <td>77</td>\n",
       "      <td>2015-01-02</td>\n",
       "      <td>12:22:46</td>\n",
       "      <td>179</td>\n",
       "      <td>hawaiian_m</td>\n",
       "      <td>1</td>\n",
       "      <td>hawaiian</td>\n",
       "      <td>M</td>\n",
       "      <td>13.25</td>\n",
       "    </tr>\n",
       "    <tr>\n",
       "      <th>2</th>\n",
       "      <td>146</td>\n",
       "      <td>2015-01-03</td>\n",
       "      <td>14:22:10</td>\n",
       "      <td>357</td>\n",
       "      <td>hawaiian_m</td>\n",
       "      <td>1</td>\n",
       "      <td>hawaiian</td>\n",
       "      <td>M</td>\n",
       "      <td>13.25</td>\n",
       "    </tr>\n",
       "    <tr>\n",
       "      <th>3</th>\n",
       "      <td>163</td>\n",
       "      <td>2015-01-03</td>\n",
       "      <td>16:54:54</td>\n",
       "      <td>389</td>\n",
       "      <td>hawaiian_m</td>\n",
       "      <td>1</td>\n",
       "      <td>hawaiian</td>\n",
       "      <td>M</td>\n",
       "      <td>13.25</td>\n",
       "    </tr>\n",
       "    <tr>\n",
       "      <th>4</th>\n",
       "      <td>247</td>\n",
       "      <td>2015-01-04</td>\n",
       "      <td>20:55:29</td>\n",
       "      <td>568</td>\n",
       "      <td>hawaiian_m</td>\n",
       "      <td>1</td>\n",
       "      <td>hawaiian</td>\n",
       "      <td>M</td>\n",
       "      <td>13.25</td>\n",
       "    </tr>\n",
       "    <tr>\n",
       "      <th>...</th>\n",
       "      <td>...</td>\n",
       "      <td>...</td>\n",
       "      <td>...</td>\n",
       "      <td>...</td>\n",
       "      <td>...</td>\n",
       "      <td>...</td>\n",
       "      <td>...</td>\n",
       "      <td>...</td>\n",
       "      <td>...</td>\n",
       "    </tr>\n",
       "    <tr>\n",
       "      <th>48615</th>\n",
       "      <td>17492</td>\n",
       "      <td>2015-10-24</td>\n",
       "      <td>18:58:20</td>\n",
       "      <td>39733</td>\n",
       "      <td>the_greek_xxl</td>\n",
       "      <td>1</td>\n",
       "      <td>the_greek</td>\n",
       "      <td>XXL</td>\n",
       "      <td>35.95</td>\n",
       "    </tr>\n",
       "    <tr>\n",
       "      <th>48616</th>\n",
       "      <td>18139</td>\n",
       "      <td>2015-11-05</td>\n",
       "      <td>20:28:52</td>\n",
       "      <td>41183</td>\n",
       "      <td>the_greek_xxl</td>\n",
       "      <td>1</td>\n",
       "      <td>the_greek</td>\n",
       "      <td>XXL</td>\n",
       "      <td>35.95</td>\n",
       "    </tr>\n",
       "    <tr>\n",
       "      <th>48617</th>\n",
       "      <td>18789</td>\n",
       "      <td>2015-11-17</td>\n",
       "      <td>11:23:51</td>\n",
       "      <td>42718</td>\n",
       "      <td>the_greek_xxl</td>\n",
       "      <td>1</td>\n",
       "      <td>the_greek</td>\n",
       "      <td>XXL</td>\n",
       "      <td>35.95</td>\n",
       "    </tr>\n",
       "    <tr>\n",
       "      <th>48618</th>\n",
       "      <td>18919</td>\n",
       "      <td>2015-11-19</td>\n",
       "      <td>16:58:26</td>\n",
       "      <td>43041</td>\n",
       "      <td>the_greek_xxl</td>\n",
       "      <td>1</td>\n",
       "      <td>the_greek</td>\n",
       "      <td>XXL</td>\n",
       "      <td>35.95</td>\n",
       "    </tr>\n",
       "    <tr>\n",
       "      <th>48619</th>\n",
       "      <td>20866</td>\n",
       "      <td>2015-12-20</td>\n",
       "      <td>19:16:20</td>\n",
       "      <td>47490</td>\n",
       "      <td>the_greek_xxl</td>\n",
       "      <td>1</td>\n",
       "      <td>the_greek</td>\n",
       "      <td>XXL</td>\n",
       "      <td>35.95</td>\n",
       "    </tr>\n",
       "  </tbody>\n",
       "</table>\n",
       "<p>48620 rows × 9 columns</p>\n",
       "</div>"
      ],
      "text/plain": [
       "       order_id        date      time  order_details_id       pizza_id  \\\n",
       "0             1  2015-01-01  11:38:36                 1     hawaiian_m   \n",
       "1            77  2015-01-02  12:22:46               179     hawaiian_m   \n",
       "2           146  2015-01-03  14:22:10               357     hawaiian_m   \n",
       "3           163  2015-01-03  16:54:54               389     hawaiian_m   \n",
       "4           247  2015-01-04  20:55:29               568     hawaiian_m   \n",
       "...         ...         ...       ...               ...            ...   \n",
       "48615     17492  2015-10-24  18:58:20             39733  the_greek_xxl   \n",
       "48616     18139  2015-11-05  20:28:52             41183  the_greek_xxl   \n",
       "48617     18789  2015-11-17  11:23:51             42718  the_greek_xxl   \n",
       "48618     18919  2015-11-19  16:58:26             43041  the_greek_xxl   \n",
       "48619     20866  2015-12-20  19:16:20             47490  the_greek_xxl   \n",
       "\n",
       "       quantity pizza_type_id size  price  \n",
       "0             1      hawaiian    M  13.25  \n",
       "1             1      hawaiian    M  13.25  \n",
       "2             1      hawaiian    M  13.25  \n",
       "3             1      hawaiian    M  13.25  \n",
       "4             1      hawaiian    M  13.25  \n",
       "...         ...           ...  ...    ...  \n",
       "48615         1     the_greek  XXL  35.95  \n",
       "48616         1     the_greek  XXL  35.95  \n",
       "48617         1     the_greek  XXL  35.95  \n",
       "48618         1     the_greek  XXL  35.95  \n",
       "48619         1     the_greek  XXL  35.95  \n",
       "\n",
       "[48620 rows x 9 columns]"
      ]
     },
     "execution_count": 13,
     "metadata": {},
     "output_type": "execute_result"
    }
   ],
   "source": [
    "order.merge(order_details,on='order_id').merge(pizza,on='pizza_id')"
   ]
  },
  {
   "cell_type": "code",
   "execution_count": 14,
   "id": "1a724f3a",
   "metadata": {},
   "outputs": [
    {
     "data": {
      "text/html": [
       "<div>\n",
       "<style scoped>\n",
       "    .dataframe tbody tr th:only-of-type {\n",
       "        vertical-align: middle;\n",
       "    }\n",
       "\n",
       "    .dataframe tbody tr th {\n",
       "        vertical-align: top;\n",
       "    }\n",
       "\n",
       "    .dataframe thead th {\n",
       "        text-align: right;\n",
       "    }\n",
       "</style>\n",
       "<table border=\"1\" class=\"dataframe\">\n",
       "  <thead>\n",
       "    <tr style=\"text-align: right;\">\n",
       "      <th></th>\n",
       "      <th>order_id</th>\n",
       "      <th>date</th>\n",
       "      <th>time</th>\n",
       "      <th>order_details_id</th>\n",
       "      <th>pizza_id</th>\n",
       "      <th>quantity</th>\n",
       "      <th>pizza_type_id</th>\n",
       "      <th>size</th>\n",
       "      <th>price</th>\n",
       "      <th>name</th>\n",
       "      <th>category</th>\n",
       "      <th>ingredients</th>\n",
       "    </tr>\n",
       "  </thead>\n",
       "  <tbody>\n",
       "    <tr>\n",
       "      <th>0</th>\n",
       "      <td>1</td>\n",
       "      <td>2015-01-01</td>\n",
       "      <td>11:38:36</td>\n",
       "      <td>1</td>\n",
       "      <td>hawaiian_m</td>\n",
       "      <td>1</td>\n",
       "      <td>hawaiian</td>\n",
       "      <td>M</td>\n",
       "      <td>13.25</td>\n",
       "      <td>The Hawaiian Pizza</td>\n",
       "      <td>Classic</td>\n",
       "      <td>Sliced Ham, Pineapple, Mozzarella Cheese</td>\n",
       "    </tr>\n",
       "    <tr>\n",
       "      <th>1</th>\n",
       "      <td>77</td>\n",
       "      <td>2015-01-02</td>\n",
       "      <td>12:22:46</td>\n",
       "      <td>179</td>\n",
       "      <td>hawaiian_m</td>\n",
       "      <td>1</td>\n",
       "      <td>hawaiian</td>\n",
       "      <td>M</td>\n",
       "      <td>13.25</td>\n",
       "      <td>The Hawaiian Pizza</td>\n",
       "      <td>Classic</td>\n",
       "      <td>Sliced Ham, Pineapple, Mozzarella Cheese</td>\n",
       "    </tr>\n",
       "    <tr>\n",
       "      <th>2</th>\n",
       "      <td>146</td>\n",
       "      <td>2015-01-03</td>\n",
       "      <td>14:22:10</td>\n",
       "      <td>357</td>\n",
       "      <td>hawaiian_m</td>\n",
       "      <td>1</td>\n",
       "      <td>hawaiian</td>\n",
       "      <td>M</td>\n",
       "      <td>13.25</td>\n",
       "      <td>The Hawaiian Pizza</td>\n",
       "      <td>Classic</td>\n",
       "      <td>Sliced Ham, Pineapple, Mozzarella Cheese</td>\n",
       "    </tr>\n",
       "    <tr>\n",
       "      <th>3</th>\n",
       "      <td>163</td>\n",
       "      <td>2015-01-03</td>\n",
       "      <td>16:54:54</td>\n",
       "      <td>389</td>\n",
       "      <td>hawaiian_m</td>\n",
       "      <td>1</td>\n",
       "      <td>hawaiian</td>\n",
       "      <td>M</td>\n",
       "      <td>13.25</td>\n",
       "      <td>The Hawaiian Pizza</td>\n",
       "      <td>Classic</td>\n",
       "      <td>Sliced Ham, Pineapple, Mozzarella Cheese</td>\n",
       "    </tr>\n",
       "    <tr>\n",
       "      <th>4</th>\n",
       "      <td>247</td>\n",
       "      <td>2015-01-04</td>\n",
       "      <td>20:55:29</td>\n",
       "      <td>568</td>\n",
       "      <td>hawaiian_m</td>\n",
       "      <td>1</td>\n",
       "      <td>hawaiian</td>\n",
       "      <td>M</td>\n",
       "      <td>13.25</td>\n",
       "      <td>The Hawaiian Pizza</td>\n",
       "      <td>Classic</td>\n",
       "      <td>Sliced Ham, Pineapple, Mozzarella Cheese</td>\n",
       "    </tr>\n",
       "  </tbody>\n",
       "</table>\n",
       "</div>"
      ],
      "text/plain": [
       "   order_id        date      time  order_details_id    pizza_id  quantity  \\\n",
       "0         1  2015-01-01  11:38:36                 1  hawaiian_m         1   \n",
       "1        77  2015-01-02  12:22:46               179  hawaiian_m         1   \n",
       "2       146  2015-01-03  14:22:10               357  hawaiian_m         1   \n",
       "3       163  2015-01-03  16:54:54               389  hawaiian_m         1   \n",
       "4       247  2015-01-04  20:55:29               568  hawaiian_m         1   \n",
       "\n",
       "  pizza_type_id size  price                name category  \\\n",
       "0      hawaiian    M  13.25  The Hawaiian Pizza  Classic   \n",
       "1      hawaiian    M  13.25  The Hawaiian Pizza  Classic   \n",
       "2      hawaiian    M  13.25  The Hawaiian Pizza  Classic   \n",
       "3      hawaiian    M  13.25  The Hawaiian Pizza  Classic   \n",
       "4      hawaiian    M  13.25  The Hawaiian Pizza  Classic   \n",
       "\n",
       "                                ingredients  \n",
       "0  Sliced Ham, Pineapple, Mozzarella Cheese  \n",
       "1  Sliced Ham, Pineapple, Mozzarella Cheese  \n",
       "2  Sliced Ham, Pineapple, Mozzarella Cheese  \n",
       "3  Sliced Ham, Pineapple, Mozzarella Cheese  \n",
       "4  Sliced Ham, Pineapple, Mozzarella Cheese  "
      ]
     },
     "execution_count": 14,
     "metadata": {},
     "output_type": "execute_result"
    }
   ],
   "source": [
    "pizza_df = order.merge(order_details,on='order_id').merge(pizza,on='pizza_id').merge(pizza_types,on='pizza_type_id')\n",
    "pizza_df.head()"
   ]
  },
  {
   "cell_type": "code",
   "execution_count": 15,
   "id": "e4174e11",
   "metadata": {},
   "outputs": [
    {
     "name": "stdout",
     "output_type": "stream",
     "text": [
      "<class 'pandas.core.frame.DataFrame'>\n",
      "RangeIndex: 48620 entries, 0 to 48619\n",
      "Data columns (total 12 columns):\n",
      " #   Column            Non-Null Count  Dtype  \n",
      "---  ------            --------------  -----  \n",
      " 0   order_id          48620 non-null  int64  \n",
      " 1   date              48620 non-null  object \n",
      " 2   time              48620 non-null  object \n",
      " 3   order_details_id  48620 non-null  int64  \n",
      " 4   pizza_id          48620 non-null  object \n",
      " 5   quantity          48620 non-null  int64  \n",
      " 6   pizza_type_id     48620 non-null  object \n",
      " 7   size              48620 non-null  object \n",
      " 8   price             48620 non-null  float64\n",
      " 9   name              48620 non-null  object \n",
      " 10  category          48620 non-null  object \n",
      " 11  ingredients       48620 non-null  object \n",
      "dtypes: float64(1), int64(3), object(8)\n",
      "memory usage: 4.5+ MB\n"
     ]
    }
   ],
   "source": [
    "pizza_df.info()"
   ]
  },
  {
   "cell_type": "code",
   "execution_count": 16,
   "id": "d88f5d12",
   "metadata": {},
   "outputs": [
    {
     "data": {
      "text/plain": [
       "order_id            0\n",
       "date                0\n",
       "time                0\n",
       "order_details_id    0\n",
       "pizza_id            0\n",
       "quantity            0\n",
       "pizza_type_id       0\n",
       "size                0\n",
       "price               0\n",
       "name                0\n",
       "category            0\n",
       "ingredients         0\n",
       "dtype: int64"
      ]
     },
     "execution_count": 16,
     "metadata": {},
     "output_type": "execute_result"
    }
   ],
   "source": [
    "pizza_df.isna().sum()"
   ]
  },
  {
   "cell_type": "code",
   "execution_count": 17,
   "id": "737ef76e",
   "metadata": {},
   "outputs": [],
   "source": [
    "pizza_df['date'] = pd.to_datetime(pizza_df['date'])  #change to datetime"
   ]
  },
  {
   "cell_type": "code",
   "execution_count": 18,
   "id": "89e91183",
   "metadata": {},
   "outputs": [],
   "source": [
    "pizza_df['day'] = pizza_df['date'].dt.dayofweek + 1 #starts from 0 so +1 makes 1 monday"
   ]
  },
  {
   "cell_type": "code",
   "execution_count": 19,
   "id": "d98da0f4",
   "metadata": {},
   "outputs": [],
   "source": [
    "pizza_df['month'] = pizza_df['date'].dt.month"
   ]
  },
  {
   "cell_type": "code",
   "execution_count": 20,
   "id": "3fae8b16",
   "metadata": {},
   "outputs": [
    {
     "data": {
      "text/html": [
       "<div>\n",
       "<style scoped>\n",
       "    .dataframe tbody tr th:only-of-type {\n",
       "        vertical-align: middle;\n",
       "    }\n",
       "\n",
       "    .dataframe tbody tr th {\n",
       "        vertical-align: top;\n",
       "    }\n",
       "\n",
       "    .dataframe thead th {\n",
       "        text-align: right;\n",
       "    }\n",
       "</style>\n",
       "<table border=\"1\" class=\"dataframe\">\n",
       "  <thead>\n",
       "    <tr style=\"text-align: right;\">\n",
       "      <th></th>\n",
       "      <th>order_id</th>\n",
       "      <th>date</th>\n",
       "      <th>time</th>\n",
       "      <th>order_details_id</th>\n",
       "      <th>pizza_id</th>\n",
       "      <th>quantity</th>\n",
       "      <th>pizza_type_id</th>\n",
       "      <th>size</th>\n",
       "      <th>price</th>\n",
       "      <th>name</th>\n",
       "      <th>category</th>\n",
       "      <th>ingredients</th>\n",
       "      <th>day</th>\n",
       "      <th>month</th>\n",
       "    </tr>\n",
       "  </thead>\n",
       "  <tbody>\n",
       "    <tr>\n",
       "      <th>0</th>\n",
       "      <td>1</td>\n",
       "      <td>2015-01-01</td>\n",
       "      <td>11:38:36</td>\n",
       "      <td>1</td>\n",
       "      <td>hawaiian_m</td>\n",
       "      <td>1</td>\n",
       "      <td>hawaiian</td>\n",
       "      <td>M</td>\n",
       "      <td>13.25</td>\n",
       "      <td>The Hawaiian Pizza</td>\n",
       "      <td>Classic</td>\n",
       "      <td>Sliced Ham, Pineapple, Mozzarella Cheese</td>\n",
       "      <td>4</td>\n",
       "      <td>1</td>\n",
       "    </tr>\n",
       "    <tr>\n",
       "      <th>1</th>\n",
       "      <td>77</td>\n",
       "      <td>2015-01-02</td>\n",
       "      <td>12:22:46</td>\n",
       "      <td>179</td>\n",
       "      <td>hawaiian_m</td>\n",
       "      <td>1</td>\n",
       "      <td>hawaiian</td>\n",
       "      <td>M</td>\n",
       "      <td>13.25</td>\n",
       "      <td>The Hawaiian Pizza</td>\n",
       "      <td>Classic</td>\n",
       "      <td>Sliced Ham, Pineapple, Mozzarella Cheese</td>\n",
       "      <td>5</td>\n",
       "      <td>1</td>\n",
       "    </tr>\n",
       "    <tr>\n",
       "      <th>2</th>\n",
       "      <td>146</td>\n",
       "      <td>2015-01-03</td>\n",
       "      <td>14:22:10</td>\n",
       "      <td>357</td>\n",
       "      <td>hawaiian_m</td>\n",
       "      <td>1</td>\n",
       "      <td>hawaiian</td>\n",
       "      <td>M</td>\n",
       "      <td>13.25</td>\n",
       "      <td>The Hawaiian Pizza</td>\n",
       "      <td>Classic</td>\n",
       "      <td>Sliced Ham, Pineapple, Mozzarella Cheese</td>\n",
       "      <td>6</td>\n",
       "      <td>1</td>\n",
       "    </tr>\n",
       "    <tr>\n",
       "      <th>3</th>\n",
       "      <td>163</td>\n",
       "      <td>2015-01-03</td>\n",
       "      <td>16:54:54</td>\n",
       "      <td>389</td>\n",
       "      <td>hawaiian_m</td>\n",
       "      <td>1</td>\n",
       "      <td>hawaiian</td>\n",
       "      <td>M</td>\n",
       "      <td>13.25</td>\n",
       "      <td>The Hawaiian Pizza</td>\n",
       "      <td>Classic</td>\n",
       "      <td>Sliced Ham, Pineapple, Mozzarella Cheese</td>\n",
       "      <td>6</td>\n",
       "      <td>1</td>\n",
       "    </tr>\n",
       "    <tr>\n",
       "      <th>4</th>\n",
       "      <td>247</td>\n",
       "      <td>2015-01-04</td>\n",
       "      <td>20:55:29</td>\n",
       "      <td>568</td>\n",
       "      <td>hawaiian_m</td>\n",
       "      <td>1</td>\n",
       "      <td>hawaiian</td>\n",
       "      <td>M</td>\n",
       "      <td>13.25</td>\n",
       "      <td>The Hawaiian Pizza</td>\n",
       "      <td>Classic</td>\n",
       "      <td>Sliced Ham, Pineapple, Mozzarella Cheese</td>\n",
       "      <td>7</td>\n",
       "      <td>1</td>\n",
       "    </tr>\n",
       "  </tbody>\n",
       "</table>\n",
       "</div>"
      ],
      "text/plain": [
       "   order_id       date      time  order_details_id    pizza_id  quantity  \\\n",
       "0         1 2015-01-01  11:38:36                 1  hawaiian_m         1   \n",
       "1        77 2015-01-02  12:22:46               179  hawaiian_m         1   \n",
       "2       146 2015-01-03  14:22:10               357  hawaiian_m         1   \n",
       "3       163 2015-01-03  16:54:54               389  hawaiian_m         1   \n",
       "4       247 2015-01-04  20:55:29               568  hawaiian_m         1   \n",
       "\n",
       "  pizza_type_id size  price                name category  \\\n",
       "0      hawaiian    M  13.25  The Hawaiian Pizza  Classic   \n",
       "1      hawaiian    M  13.25  The Hawaiian Pizza  Classic   \n",
       "2      hawaiian    M  13.25  The Hawaiian Pizza  Classic   \n",
       "3      hawaiian    M  13.25  The Hawaiian Pizza  Classic   \n",
       "4      hawaiian    M  13.25  The Hawaiian Pizza  Classic   \n",
       "\n",
       "                                ingredients  day  month  \n",
       "0  Sliced Ham, Pineapple, Mozzarella Cheese    4      1  \n",
       "1  Sliced Ham, Pineapple, Mozzarella Cheese    5      1  \n",
       "2  Sliced Ham, Pineapple, Mozzarella Cheese    6      1  \n",
       "3  Sliced Ham, Pineapple, Mozzarella Cheese    6      1  \n",
       "4  Sliced Ham, Pineapple, Mozzarella Cheese    7      1  "
      ]
     },
     "execution_count": 20,
     "metadata": {},
     "output_type": "execute_result"
    }
   ],
   "source": [
    "pizza_df.head()"
   ]
  },
  {
   "cell_type": "code",
   "execution_count": 21,
   "id": "da58bf6e",
   "metadata": {},
   "outputs": [
    {
     "name": "stderr",
     "output_type": "stream",
     "text": [
      "C:\\Users\\Nana Kojo\\AppData\\Local\\Temp\\ipykernel_15732\\3543579272.py:1: UserWarning: Could not infer format, so each element will be parsed individually, falling back to `dateutil`. To ensure parsing is consistent and as-expected, please specify a format.\n",
      "  pizza_df['hour']=pd.to_datetime(pizza_df.time).dt.hour\n"
     ]
    }
   ],
   "source": [
    "pizza_df['hour']=pd.to_datetime(pizza_df.time).dt.hour\n"
   ]
  },
  {
   "cell_type": "code",
   "execution_count": 22,
   "id": "f7cd246a",
   "metadata": {},
   "outputs": [
    {
     "data": {
      "text/plain": [
       "order_id                                                1559\n",
       "date                                     2015-01-27 00:00:00\n",
       "time                                                12:34:12\n",
       "order_details_id                                        3507\n",
       "pizza_id                                          hawaiian_m\n",
       "quantity                                                   1\n",
       "pizza_type_id                                       hawaiian\n",
       "size                                                       M\n",
       "price                                                  13.25\n",
       "name                                      The Hawaiian Pizza\n",
       "category                                             Classic\n",
       "ingredients         Sliced Ham, Pineapple, Mozzarella Cheese\n",
       "day                                                        2\n",
       "month                                                      1\n",
       "hour                                                      12\n",
       "Name: 17, dtype: object"
      ]
     },
     "execution_count": 22,
     "metadata": {},
     "output_type": "execute_result"
    }
   ],
   "source": [
    "pizza_df.iloc[17]"
   ]
  },
  {
   "cell_type": "code",
   "execution_count": 23,
   "id": "d1d01d5c",
   "metadata": {},
   "outputs": [],
   "source": [
    "days = {1:'Monday',2:'Tuesday',3:'Wednesday',4:'Thursday',5:'Friday',6:'Saturday',7:'Sunday'}\n",
    "pizza_df['day'] = pizza_df['day'].map(days)"
   ]
  },
  {
   "cell_type": "code",
   "execution_count": 24,
   "id": "31ec8574",
   "metadata": {},
   "outputs": [],
   "source": [
    "months = {1:'January', 2:'February', 3:'March', 4:'April',5:'May', 6:'June', 7:'July',\n",
    "       8:'August', 9:'September', 10:'October', 11:'November', 12:'December'}\n",
    "pizza_df['month'] = pizza_df['month'].map(months)"
   ]
  },
  {
   "cell_type": "code",
   "execution_count": 25,
   "id": "8e8a4040",
   "metadata": {},
   "outputs": [],
   "source": [
    "pizza_df['sales'] = pizza_df['price'] * pizza_df['quantity']"
   ]
  },
  {
   "cell_type": "code",
   "execution_count": 26,
   "id": "dd7dda48",
   "metadata": {},
   "outputs": [
    {
     "data": {
      "text/html": [
       "<div>\n",
       "<style scoped>\n",
       "    .dataframe tbody tr th:only-of-type {\n",
       "        vertical-align: middle;\n",
       "    }\n",
       "\n",
       "    .dataframe tbody tr th {\n",
       "        vertical-align: top;\n",
       "    }\n",
       "\n",
       "    .dataframe thead th {\n",
       "        text-align: right;\n",
       "    }\n",
       "</style>\n",
       "<table border=\"1\" class=\"dataframe\">\n",
       "  <thead>\n",
       "    <tr style=\"text-align: right;\">\n",
       "      <th></th>\n",
       "      <th>order_id</th>\n",
       "      <th>date</th>\n",
       "      <th>time</th>\n",
       "      <th>order_details_id</th>\n",
       "      <th>pizza_id</th>\n",
       "      <th>quantity</th>\n",
       "      <th>pizza_type_id</th>\n",
       "      <th>size</th>\n",
       "      <th>price</th>\n",
       "      <th>name</th>\n",
       "      <th>category</th>\n",
       "      <th>ingredients</th>\n",
       "      <th>day</th>\n",
       "      <th>month</th>\n",
       "      <th>hour</th>\n",
       "      <th>sales</th>\n",
       "    </tr>\n",
       "  </thead>\n",
       "  <tbody>\n",
       "    <tr>\n",
       "      <th>16892</th>\n",
       "      <td>17068</td>\n",
       "      <td>2015-10-16</td>\n",
       "      <td>14:40:23</td>\n",
       "      <td>38716</td>\n",
       "      <td>the_greek_l</td>\n",
       "      <td>1</td>\n",
       "      <td>the_greek</td>\n",
       "      <td>L</td>\n",
       "      <td>20.50</td>\n",
       "      <td>The Greek Pizza</td>\n",
       "      <td>Classic</td>\n",
       "      <td>Kalamata Olives, Feta Cheese, Tomatoes, Garlic...</td>\n",
       "      <td>Friday</td>\n",
       "      <td>October</td>\n",
       "      <td>14</td>\n",
       "      <td>20.50</td>\n",
       "    </tr>\n",
       "    <tr>\n",
       "      <th>38904</th>\n",
       "      <td>20795</td>\n",
       "      <td>2015-12-19</td>\n",
       "      <td>17:00:31</td>\n",
       "      <td>47321</td>\n",
       "      <td>calabrese_s</td>\n",
       "      <td>1</td>\n",
       "      <td>calabrese</td>\n",
       "      <td>S</td>\n",
       "      <td>12.25</td>\n",
       "      <td>The Calabrese Pizza</td>\n",
       "      <td>Supreme</td>\n",
       "      <td>Nduja Salami, Pancetta, Tomatoes, Red Onions,...</td>\n",
       "      <td>Saturday</td>\n",
       "      <td>December</td>\n",
       "      <td>17</td>\n",
       "      <td>12.25</td>\n",
       "    </tr>\n",
       "    <tr>\n",
       "      <th>46394</th>\n",
       "      <td>15073</td>\n",
       "      <td>2015-09-09</td>\n",
       "      <td>17:50:55</td>\n",
       "      <td>34144</td>\n",
       "      <td>ckn_alfredo_m</td>\n",
       "      <td>1</td>\n",
       "      <td>ckn_alfredo</td>\n",
       "      <td>M</td>\n",
       "      <td>16.75</td>\n",
       "      <td>The Chicken Alfredo Pizza</td>\n",
       "      <td>Chicken</td>\n",
       "      <td>Chicken, Red Onions, Red Peppers, Mushrooms, A...</td>\n",
       "      <td>Wednesday</td>\n",
       "      <td>September</td>\n",
       "      <td>17</td>\n",
       "      <td>16.75</td>\n",
       "    </tr>\n",
       "    <tr>\n",
       "      <th>19789</th>\n",
       "      <td>8544</td>\n",
       "      <td>2015-05-23</td>\n",
       "      <td>18:21:36</td>\n",
       "      <td>19434</td>\n",
       "      <td>ital_cpcllo_m</td>\n",
       "      <td>1</td>\n",
       "      <td>ital_cpcllo</td>\n",
       "      <td>M</td>\n",
       "      <td>16.00</td>\n",
       "      <td>The Italian Capocollo Pizza</td>\n",
       "      <td>Classic</td>\n",
       "      <td>Capocollo, Red Peppers, Tomatoes, Goat Cheese,...</td>\n",
       "      <td>Saturday</td>\n",
       "      <td>May</td>\n",
       "      <td>18</td>\n",
       "      <td>16.00</td>\n",
       "    </tr>\n",
       "    <tr>\n",
       "      <th>12406</th>\n",
       "      <td>11237</td>\n",
       "      <td>2015-07-07</td>\n",
       "      <td>13:24:47</td>\n",
       "      <td>25551</td>\n",
       "      <td>prsc_argla_s</td>\n",
       "      <td>1</td>\n",
       "      <td>prsc_argla</td>\n",
       "      <td>S</td>\n",
       "      <td>12.50</td>\n",
       "      <td>The Prosciutto and Arugula Pizza</td>\n",
       "      <td>Supreme</td>\n",
       "      <td>Prosciutto di San Daniele, Arugula, Mozzarella...</td>\n",
       "      <td>Tuesday</td>\n",
       "      <td>July</td>\n",
       "      <td>13</td>\n",
       "      <td>12.50</td>\n",
       "    </tr>\n",
       "  </tbody>\n",
       "</table>\n",
       "</div>"
      ],
      "text/plain": [
       "       order_id       date      time  order_details_id       pizza_id  \\\n",
       "16892     17068 2015-10-16  14:40:23             38716    the_greek_l   \n",
       "38904     20795 2015-12-19  17:00:31             47321    calabrese_s   \n",
       "46394     15073 2015-09-09  17:50:55             34144  ckn_alfredo_m   \n",
       "19789      8544 2015-05-23  18:21:36             19434  ital_cpcllo_m   \n",
       "12406     11237 2015-07-07  13:24:47             25551   prsc_argla_s   \n",
       "\n",
       "       quantity pizza_type_id size  price                              name  \\\n",
       "16892         1     the_greek    L  20.50                   The Greek Pizza   \n",
       "38904         1     calabrese    S  12.25               The Calabrese Pizza   \n",
       "46394         1   ckn_alfredo    M  16.75         The Chicken Alfredo Pizza   \n",
       "19789         1   ital_cpcllo    M  16.00       The Italian Capocollo Pizza   \n",
       "12406         1    prsc_argla    S  12.50  The Prosciutto and Arugula Pizza   \n",
       "\n",
       "      category                                        ingredients        day  \\\n",
       "16892  Classic  Kalamata Olives, Feta Cheese, Tomatoes, Garlic...     Friday   \n",
       "38904  Supreme  Nduja Salami, Pancetta, Tomatoes, Red Onions,...   Saturday   \n",
       "46394  Chicken  Chicken, Red Onions, Red Peppers, Mushrooms, A...  Wednesday   \n",
       "19789  Classic  Capocollo, Red Peppers, Tomatoes, Goat Cheese,...   Saturday   \n",
       "12406  Supreme  Prosciutto di San Daniele, Arugula, Mozzarella...    Tuesday   \n",
       "\n",
       "           month  hour  sales  \n",
       "16892    October    14  20.50  \n",
       "38904   December    17  12.25  \n",
       "46394  September    17  16.75  \n",
       "19789        May    18  16.00  \n",
       "12406       July    13  12.50  "
      ]
     },
     "execution_count": 26,
     "metadata": {},
     "output_type": "execute_result"
    }
   ],
   "source": [
    "pizza_df.sample(5)"
   ]
  },
  {
   "cell_type": "markdown",
   "id": "12bab056",
   "metadata": {},
   "source": [
    "### How many pizzas were sold in the year?"
   ]
  },
  {
   "cell_type": "code",
   "execution_count": 27,
   "id": "b35b0069",
   "metadata": {},
   "outputs": [
    {
     "name": "stdout",
     "output_type": "stream",
     "text": [
      "49574 pizzas were sold in 2015\n"
     ]
    }
   ],
   "source": [
    "total_sales = pizza_df['quantity'].sum()\n",
    "print(f'{total_sales} pizzas were sold in 2015')"
   ]
  },
  {
   "cell_type": "code",
   "execution_count": 28,
   "id": "56faf326",
   "metadata": {},
   "outputs": [
    {
     "data": {
      "text/plain": [
       "4131.166666666667"
      ]
     },
     "execution_count": 28,
     "metadata": {},
     "output_type": "execute_result"
    }
   ],
   "source": [
    "total_sales/12  #average pizzas sold in month"
   ]
  },
  {
   "cell_type": "code",
   "execution_count": 29,
   "id": "1f612735",
   "metadata": {},
   "outputs": [
    {
     "data": {
      "text/plain": [
       "138.47486033519553"
      ]
     },
     "execution_count": 29,
     "metadata": {},
     "output_type": "execute_result"
    }
   ],
   "source": [
    "total_sales/358   #pizzas sold in a day"
   ]
  },
  {
   "cell_type": "markdown",
   "id": "a48a4147",
   "metadata": {},
   "source": [
    "### How many days did the restaurant operate?"
   ]
  },
  {
   "cell_type": "code",
   "execution_count": 30,
   "id": "3b656cd8",
   "metadata": {},
   "outputs": [],
   "source": [
    " days = pizza_df['date'].count() - pizza_df['date'].duplicated().sum()"
   ]
  },
  {
   "cell_type": "code",
   "execution_count": 31,
   "id": "a9479d19",
   "metadata": {},
   "outputs": [
    {
     "data": {
      "text/plain": [
       "48262"
      ]
     },
     "execution_count": 31,
     "metadata": {},
     "output_type": "execute_result"
    }
   ],
   "source": [
    "pizza_df['date'].duplicated().sum()  #shows dates that were duplicated"
   ]
  },
  {
   "cell_type": "code",
   "execution_count": 32,
   "id": "db147a24",
   "metadata": {},
   "outputs": [
    {
     "data": {
      "text/plain": [
       "358"
      ]
     },
     "execution_count": 32,
     "metadata": {},
     "output_type": "execute_result"
    }
   ],
   "source": [
    "pizza_df[~pizza_df['date'].duplicated()].count()[1] #'~'shows the dates that werent duplicated"
   ]
  },
  {
   "cell_type": "code",
   "execution_count": 33,
   "id": "d139e491",
   "metadata": {},
   "outputs": [
    {
     "name": "stdout",
     "output_type": "stream",
     "text": [
      "Restaurant operated for 358 days in the year\n"
     ]
    }
   ],
   "source": [
    "print(f'Restaurant operated for {days} days in the year')"
   ]
  },
  {
   "cell_type": "markdown",
   "id": "dc3215de",
   "metadata": {},
   "source": [
    "## How many orders were placed in the year"
   ]
  },
  {
   "cell_type": "code",
   "execution_count": 34,
   "id": "a9fc65fa",
   "metadata": {},
   "outputs": [],
   "source": [
    "total_orders = pizza_df['order_id'].count() - pizza_df['order_id'].duplicated().sum()"
   ]
  },
  {
   "cell_type": "code",
   "execution_count": 35,
   "id": "39277dbb",
   "metadata": {},
   "outputs": [
    {
     "data": {
      "text/plain": [
       "21350"
      ]
     },
     "execution_count": 35,
     "metadata": {},
     "output_type": "execute_result"
    }
   ],
   "source": [
    "pizza_df['order_id'].drop_duplicates().count()"
   ]
  },
  {
   "cell_type": "code",
   "execution_count": 36,
   "id": "3c0fcad4",
   "metadata": {},
   "outputs": [
    {
     "name": "stdout",
     "output_type": "stream",
     "text": [
      "21350 orders were placed in the year\n"
     ]
    }
   ],
   "source": [
    "print(f'{total_orders} orders were placed in the year')"
   ]
  },
  {
   "cell_type": "code",
   "execution_count": 37,
   "id": "a20ee441",
   "metadata": {},
   "outputs": [
    {
     "data": {
      "text/plain": [
       "1779.1666666666667"
      ]
     },
     "execution_count": 37,
     "metadata": {},
     "output_type": "execute_result"
    }
   ],
   "source": [
    "total_orders/12   #average for monthly"
   ]
  },
  {
   "cell_type": "code",
   "execution_count": 38,
   "id": "5ebc698f",
   "metadata": {},
   "outputs": [
    {
     "data": {
      "text/plain": [
       "59.63687150837989"
      ]
     },
     "execution_count": 38,
     "metadata": {},
     "output_type": "execute_result"
    }
   ],
   "source": [
    "total_orders/days  #average for day"
   ]
  },
  {
   "cell_type": "markdown",
   "id": "fbf7a3d8",
   "metadata": {},
   "source": [
    "## How much money was made"
   ]
  },
  {
   "cell_type": "code",
   "execution_count": 39,
   "id": "eef7e7dd",
   "metadata": {},
   "outputs": [
    {
     "data": {
      "text/plain": [
       "817860.05"
      ]
     },
     "execution_count": 39,
     "metadata": {},
     "output_type": "execute_result"
    }
   ],
   "source": [
    "year_income = pizza_df['sales'].sum()\n",
    "year_income"
   ]
  },
  {
   "cell_type": "code",
   "execution_count": 40,
   "id": "25e43747",
   "metadata": {},
   "outputs": [
    {
     "data": {
      "text/plain": [
       "68155.00416666667"
      ]
     },
     "execution_count": 40,
     "metadata": {},
     "output_type": "execute_result"
    }
   ],
   "source": [
    "year_income/12 "
   ]
  },
  {
   "cell_type": "code",
   "execution_count": 41,
   "id": "6b81b88c",
   "metadata": {},
   "outputs": [
    {
     "data": {
      "text/plain": [
       "2284.525279329609"
      ]
     },
     "execution_count": 41,
     "metadata": {},
     "output_type": "execute_result"
    }
   ],
   "source": [
    "year_income/358"
   ]
  },
  {
   "cell_type": "code",
   "execution_count": 42,
   "id": "6c1ec5fc",
   "metadata": {},
   "outputs": [
    {
     "name": "stdout",
     "output_type": "stream",
     "text": [
      "$817860.05 was made in the year\n"
     ]
    }
   ],
   "source": [
    "print(f'${year_income} was made in the year')"
   ]
  },
  {
   "cell_type": "markdown",
   "id": "0afd19b9",
   "metadata": {},
   "source": [
    "## Which days are we busy?"
   ]
  },
  {
   "cell_type": "code",
   "execution_count": 43,
   "id": "e1f9d66c",
   "metadata": {},
   "outputs": [
    {
     "data": {
      "text/plain": [
       "day\n",
       "Friday       8242\n",
       "Saturday     7493\n",
       "Thursday     7478\n",
       "Wednesday    6946\n",
       "Tuesday      6895\n",
       "Monday       6485\n",
       "Sunday       6035\n",
       "Name: quantity, dtype: int64"
      ]
     },
     "execution_count": 43,
     "metadata": {},
     "output_type": "execute_result"
    }
   ],
   "source": [
    "pizza_df.groupby('day')['quantity'].sum().sort_values(ascending=False)"
   ]
  },
  {
   "cell_type": "code",
   "execution_count": 44,
   "id": "98d52d4d",
   "metadata": {},
   "outputs": [
    {
     "data": {
      "text/html": [
       "<div>\n",
       "<style scoped>\n",
       "    .dataframe tbody tr th:only-of-type {\n",
       "        vertical-align: middle;\n",
       "    }\n",
       "\n",
       "    .dataframe tbody tr th {\n",
       "        vertical-align: top;\n",
       "    }\n",
       "\n",
       "    .dataframe thead th {\n",
       "        text-align: right;\n",
       "    }\n",
       "</style>\n",
       "<table border=\"1\" class=\"dataframe\">\n",
       "  <thead>\n",
       "    <tr style=\"text-align: right;\">\n",
       "      <th></th>\n",
       "      <th>day</th>\n",
       "      <th>quantity</th>\n",
       "      <th>qty_pct</th>\n",
       "    </tr>\n",
       "  </thead>\n",
       "  <tbody>\n",
       "    <tr>\n",
       "      <th>0</th>\n",
       "      <td>Friday</td>\n",
       "      <td>8242</td>\n",
       "      <td>16.63</td>\n",
       "    </tr>\n",
       "    <tr>\n",
       "      <th>1</th>\n",
       "      <td>Saturday</td>\n",
       "      <td>7493</td>\n",
       "      <td>15.11</td>\n",
       "    </tr>\n",
       "    <tr>\n",
       "      <th>2</th>\n",
       "      <td>Thursday</td>\n",
       "      <td>7478</td>\n",
       "      <td>15.08</td>\n",
       "    </tr>\n",
       "    <tr>\n",
       "      <th>3</th>\n",
       "      <td>Wednesday</td>\n",
       "      <td>6946</td>\n",
       "      <td>14.01</td>\n",
       "    </tr>\n",
       "    <tr>\n",
       "      <th>4</th>\n",
       "      <td>Tuesday</td>\n",
       "      <td>6895</td>\n",
       "      <td>13.91</td>\n",
       "    </tr>\n",
       "  </tbody>\n",
       "</table>\n",
       "</div>"
      ],
      "text/plain": [
       "         day  quantity  qty_pct\n",
       "0     Friday      8242    16.63\n",
       "1   Saturday      7493    15.11\n",
       "2   Thursday      7478    15.08\n",
       "3  Wednesday      6946    14.01\n",
       "4    Tuesday      6895    13.91"
      ]
     },
     "execution_count": 44,
     "metadata": {},
     "output_type": "execute_result"
    }
   ],
   "source": [
    "days_df = pd.DataFrame(pizza_df.groupby('day')['quantity'].sum().sort_values(ascending=False)).reset_index()\n",
    "\n",
    "days_df['qty_pct']= round(days_df['quantity']/days_df['quantity'].sum()*100,2)\n",
    "days_df.head()"
   ]
  },
  {
   "cell_type": "code",
   "execution_count": 45,
   "id": "c9ddab7f",
   "metadata": {},
   "outputs": [
    {
     "data": {
      "image/png": "[encoded data removed]",
      "text/plain": [
       "<Figure size 1500x700 with 1 Axes>"
      ]
     },
     "metadata": {},
     "output_type": "display_data"
    }
   ],
   "source": [
    "plt.figure(figsize=(15,7))\n",
    "plt.bar(days_df['day'],days_df['quantity'])\n",
    "plt.xlabel('Days')\n",
    "plt.ylabel('Quantity')\n",
    "plt.title('Busiest Days',fontsize=12)\n",
    "plt.savefig('busy.jpg')"
   ]
  },
  {
   "cell_type": "markdown",
   "id": "6e8b1cde",
   "metadata": {},
   "source": [
    "## Which day did we make more money?"
   ]
  },
  {
   "cell_type": "code",
   "execution_count": 46,
   "id": "df6886b4",
   "metadata": {},
   "outputs": [
    {
     "data": {
      "text/html": [
       "<div>\n",
       "<style scoped>\n",
       "    .dataframe tbody tr th:only-of-type {\n",
       "        vertical-align: middle;\n",
       "    }\n",
       "\n",
       "    .dataframe tbody tr th {\n",
       "        vertical-align: top;\n",
       "    }\n",
       "\n",
       "    .dataframe thead th {\n",
       "        text-align: right;\n",
       "    }\n",
       "</style>\n",
       "<table border=\"1\" class=\"dataframe\">\n",
       "  <thead>\n",
       "    <tr style=\"text-align: right;\">\n",
       "      <th></th>\n",
       "      <th>day</th>\n",
       "      <th>sales</th>\n",
       "      <th>sale_pct</th>\n",
       "    </tr>\n",
       "  </thead>\n",
       "  <tbody>\n",
       "    <tr>\n",
       "      <th>0</th>\n",
       "      <td>Friday</td>\n",
       "      <td>136073.90</td>\n",
       "      <td>16.64</td>\n",
       "    </tr>\n",
       "    <tr>\n",
       "      <th>1</th>\n",
       "      <td>Thursday</td>\n",
       "      <td>123528.50</td>\n",
       "      <td>15.10</td>\n",
       "    </tr>\n",
       "    <tr>\n",
       "      <th>2</th>\n",
       "      <td>Saturday</td>\n",
       "      <td>123182.40</td>\n",
       "      <td>15.06</td>\n",
       "    </tr>\n",
       "    <tr>\n",
       "      <th>3</th>\n",
       "      <td>Wednesday</td>\n",
       "      <td>114408.40</td>\n",
       "      <td>13.99</td>\n",
       "    </tr>\n",
       "    <tr>\n",
       "      <th>4</th>\n",
       "      <td>Tuesday</td>\n",
       "      <td>114133.80</td>\n",
       "      <td>13.96</td>\n",
       "    </tr>\n",
       "    <tr>\n",
       "      <th>5</th>\n",
       "      <td>Monday</td>\n",
       "      <td>107329.55</td>\n",
       "      <td>13.12</td>\n",
       "    </tr>\n",
       "    <tr>\n",
       "      <th>6</th>\n",
       "      <td>Sunday</td>\n",
       "      <td>99203.50</td>\n",
       "      <td>12.13</td>\n",
       "    </tr>\n",
       "  </tbody>\n",
       "</table>\n",
       "</div>"
      ],
      "text/plain": [
       "         day      sales  sale_pct\n",
       "0     Friday  136073.90     16.64\n",
       "1   Thursday  123528.50     15.10\n",
       "2   Saturday  123182.40     15.06\n",
       "3  Wednesday  114408.40     13.99\n",
       "4    Tuesday  114133.80     13.96\n",
       "5     Monday  107329.55     13.12\n",
       "6     Sunday   99203.50     12.13"
      ]
     },
     "execution_count": 46,
     "metadata": {},
     "output_type": "execute_result"
    }
   ],
   "source": [
    "sale_df = pd.DataFrame(pizza_df.groupby('day')['sales'].sum().sort_values(ascending=False)).reset_index()\n",
    "\n",
    "sale_df['sale_pct']= round(sale_df['sales']/sale_df['sales'].sum()*100,2)\n",
    "sale_df"
   ]
  },
  {
   "cell_type": "code",
   "execution_count": 47,
   "id": "05608af6",
   "metadata": {},
   "outputs": [
    {
     "data": {
      "image/png": "[encoded data removed]",
      "text/plain": [
       "<Figure size 1500x700 with 1 Axes>"
      ]
     },
     "metadata": {},
     "output_type": "display_data"
    }
   ],
   "source": [
    "plt.figure(figsize=(15,7))\n",
    "plt.bar(sale_df['day'],sale_df['sales'])\n",
    "plt.xlabel('Days')\n",
    "plt.ylabel('Sales')\n",
    "plt.title('Income per Day',fontsize=15)\n",
    "plt.savefig('income.jpg')"
   ]
  },
  {
   "cell_type": "markdown",
   "id": "5129c172",
   "metadata": {},
   "source": [
    "How many different pizzas do we sell?\n",
    "top 3 selling pizzas\n",
    "worst selling pizzas"
   ]
  },
  {
   "cell_type": "code",
   "execution_count": 48,
   "id": "085492ac",
   "metadata": {},
   "outputs": [],
   "source": [
    "diff_pizzas = pizza_df['name'].nunique()"
   ]
  },
  {
   "cell_type": "code",
   "execution_count": 49,
   "id": "eb2cd37f",
   "metadata": {},
   "outputs": [
    {
     "name": "stdout",
     "output_type": "stream",
     "text": [
      "There are 32 types of pizzas\n"
     ]
    }
   ],
   "source": [
    "print(f'There are {diff_pizzas} types of pizzas')"
   ]
  },
  {
   "cell_type": "code",
   "execution_count": 50,
   "id": "b9a64264",
   "metadata": {},
   "outputs": [],
   "source": [
    "pizza1_df = pd.DataFrame(pizza_df.groupby('name')['quantity'].sum().sort_values(ascending=False)).reset_index()"
   ]
  },
  {
   "cell_type": "code",
   "execution_count": 51,
   "id": "ac61fcd4",
   "metadata": {},
   "outputs": [
    {
     "data": {
      "text/html": [
       "<div>\n",
       "<style scoped>\n",
       "    .dataframe tbody tr th:only-of-type {\n",
       "        vertical-align: middle;\n",
       "    }\n",
       "\n",
       "    .dataframe tbody tr th {\n",
       "        vertical-align: top;\n",
       "    }\n",
       "\n",
       "    .dataframe thead th {\n",
       "        text-align: right;\n",
       "    }\n",
       "</style>\n",
       "<table border=\"1\" class=\"dataframe\">\n",
       "  <thead>\n",
       "    <tr style=\"text-align: right;\">\n",
       "      <th></th>\n",
       "      <th>name</th>\n",
       "      <th>quantity</th>\n",
       "    </tr>\n",
       "  </thead>\n",
       "  <tbody>\n",
       "    <tr>\n",
       "      <th>0</th>\n",
       "      <td>The Classic Deluxe Pizza</td>\n",
       "      <td>2453</td>\n",
       "    </tr>\n",
       "    <tr>\n",
       "      <th>1</th>\n",
       "      <td>The Barbecue Chicken Pizza</td>\n",
       "      <td>2432</td>\n",
       "    </tr>\n",
       "    <tr>\n",
       "      <th>2</th>\n",
       "      <td>The Hawaiian Pizza</td>\n",
       "      <td>2422</td>\n",
       "    </tr>\n",
       "  </tbody>\n",
       "</table>\n",
       "</div>"
      ],
      "text/plain": [
       "                         name  quantity\n",
       "0    The Classic Deluxe Pizza      2453\n",
       "1  The Barbecue Chicken Pizza      2432\n",
       "2          The Hawaiian Pizza      2422"
      ]
     },
     "execution_count": 51,
     "metadata": {},
     "output_type": "execute_result"
    }
   ],
   "source": [
    "pizza1_df.head(3)   #shows top 3 selling pizzas"
   ]
  },
  {
   "cell_type": "code",
   "execution_count": 52,
   "id": "771fc82c",
   "metadata": {
    "scrolled": true
   },
   "outputs": [
    {
     "data": {
      "text/html": [
       "<div>\n",
       "<style scoped>\n",
       "    .dataframe tbody tr th:only-of-type {\n",
       "        vertical-align: middle;\n",
       "    }\n",
       "\n",
       "    .dataframe tbody tr th {\n",
       "        vertical-align: top;\n",
       "    }\n",
       "\n",
       "    .dataframe thead th {\n",
       "        text-align: right;\n",
       "    }\n",
       "</style>\n",
       "<table border=\"1\" class=\"dataframe\">\n",
       "  <thead>\n",
       "    <tr style=\"text-align: right;\">\n",
       "      <th></th>\n",
       "      <th>name</th>\n",
       "      <th>quantity</th>\n",
       "    </tr>\n",
       "  </thead>\n",
       "  <tbody>\n",
       "    <tr>\n",
       "      <th>29</th>\n",
       "      <td>The Calabrese Pizza</td>\n",
       "      <td>937</td>\n",
       "    </tr>\n",
       "    <tr>\n",
       "      <th>30</th>\n",
       "      <td>The Mediterranean Pizza</td>\n",
       "      <td>934</td>\n",
       "    </tr>\n",
       "    <tr>\n",
       "      <th>31</th>\n",
       "      <td>The Brie Carre Pizza</td>\n",
       "      <td>490</td>\n",
       "    </tr>\n",
       "  </tbody>\n",
       "</table>\n",
       "</div>"
      ],
      "text/plain": [
       "                       name  quantity\n",
       "29      The Calabrese Pizza       937\n",
       "30  The Mediterranean Pizza       934\n",
       "31     The Brie Carre Pizza       490"
      ]
     },
     "execution_count": 52,
     "metadata": {},
     "output_type": "execute_result"
    }
   ],
   "source": [
    "pizza1_df.tail(3)   #shows worst 3 selling pizzas"
   ]
  },
  {
   "cell_type": "code",
   "execution_count": 53,
   "id": "6eacef90",
   "metadata": {},
   "outputs": [
    {
     "data": {
      "image/png": "[encoded data removed]",
      "text/plain": [
       "<Figure size 1500x700 with 1 Axes>"
      ]
     },
     "metadata": {},
     "output_type": "display_data"
    }
   ],
   "source": [
    "plt.figure(figsize=(15,7))\n",
    "sns.barplot(data=pizza1_df,x='quantity',y='name',orient='h',palette='Greens')   #orient makes it horizontal and  \n",
    "plt.xlabel('Quantity')\n",
    "plt.ylabel('Name')\n",
    "plt.title('Best and worst selling pizzas',fontsize=15);\n",
    "plt.savefig('selling1.jpg')"
   ]
  },
  {
   "cell_type": "markdown",
   "id": "621b50df",
   "metadata": {},
   "source": [
    "## Top profitable pizzas"
   ]
  },
  {
   "cell_type": "code",
   "execution_count": 54,
   "id": "06dbf1c6",
   "metadata": {},
   "outputs": [
    {
     "data": {
      "text/html": [
       "<div>\n",
       "<style scoped>\n",
       "    .dataframe tbody tr th:only-of-type {\n",
       "        vertical-align: middle;\n",
       "    }\n",
       "\n",
       "    .dataframe tbody tr th {\n",
       "        vertical-align: top;\n",
       "    }\n",
       "\n",
       "    .dataframe thead th {\n",
       "        text-align: right;\n",
       "    }\n",
       "</style>\n",
       "<table border=\"1\" class=\"dataframe\">\n",
       "  <thead>\n",
       "    <tr style=\"text-align: right;\">\n",
       "      <th></th>\n",
       "      <th>name</th>\n",
       "      <th>sales</th>\n",
       "      <th>percentage</th>\n",
       "    </tr>\n",
       "  </thead>\n",
       "  <tbody>\n",
       "    <tr>\n",
       "      <th>0</th>\n",
       "      <td>The Thai Chicken Pizza</td>\n",
       "      <td>43434.25</td>\n",
       "      <td>5.31</td>\n",
       "    </tr>\n",
       "    <tr>\n",
       "      <th>1</th>\n",
       "      <td>The Barbecue Chicken Pizza</td>\n",
       "      <td>42768.00</td>\n",
       "      <td>5.23</td>\n",
       "    </tr>\n",
       "    <tr>\n",
       "      <th>2</th>\n",
       "      <td>The California Chicken Pizza</td>\n",
       "      <td>41409.50</td>\n",
       "      <td>5.06</td>\n",
       "    </tr>\n",
       "    <tr>\n",
       "      <th>3</th>\n",
       "      <td>The Classic Deluxe Pizza</td>\n",
       "      <td>38180.50</td>\n",
       "      <td>4.67</td>\n",
       "    </tr>\n",
       "    <tr>\n",
       "      <th>4</th>\n",
       "      <td>The Spicy Italian Pizza</td>\n",
       "      <td>34831.25</td>\n",
       "      <td>4.26</td>\n",
       "    </tr>\n",
       "  </tbody>\n",
       "</table>\n",
       "</div>"
      ],
      "text/plain": [
       "                           name     sales  percentage\n",
       "0        The Thai Chicken Pizza  43434.25        5.31\n",
       "1    The Barbecue Chicken Pizza  42768.00        5.23\n",
       "2  The California Chicken Pizza  41409.50        5.06\n",
       "3      The Classic Deluxe Pizza  38180.50        4.67\n",
       "4       The Spicy Italian Pizza  34831.25        4.26"
      ]
     },
     "execution_count": 54,
     "metadata": {},
     "output_type": "execute_result"
    }
   ],
   "source": [
    "pizza2_df = pd.DataFrame(pizza_df.groupby('name')['sales'].sum().sort_values(ascending=False)).reset_index()\n",
    "pizza2_df['percentage']= round(pizza2_df['sales']/pizza2_df['sales'].sum()*100,2)\n",
    "pizza2_df.head()"
   ]
  },
  {
   "cell_type": "code",
   "execution_count": 55,
   "id": "4cd50986",
   "metadata": {},
   "outputs": [
    {
     "name": "stdout",
     "output_type": "stream",
     "text": [
      "Best performing\n",
      "Based on quantities\n",
      "                         name  quantity\n",
      "0    The Classic Deluxe Pizza      2453\n",
      "1  The Barbecue Chicken Pizza      2432\n",
      "2          The Hawaiian Pizza      2422\n",
      "3         The Pepperoni Pizza      2418\n",
      "4      The Thai Chicken Pizza      2371\n",
      "              \n",
      "Based on sales\n",
      "                           name     sales  percentage\n",
      "0        The Thai Chicken Pizza  43434.25        5.31\n",
      "1    The Barbecue Chicken Pizza  42768.00        5.23\n",
      "2  The California Chicken Pizza  41409.50        5.06\n",
      "3      The Classic Deluxe Pizza  38180.50        4.67\n",
      "4       The Spicy Italian Pizza  34831.25        4.26\n"
     ]
    }
   ],
   "source": [
    "print('Best performing')\n",
    "print('Based on quantities')\n",
    "print(pizza1_df.head())\n",
    "print('              ')\n",
    "print('Based on sales')\n",
    "print(pizza2_df.head())"
   ]
  },
  {
   "cell_type": "code",
   "execution_count": 56,
   "id": "0fe94ba3",
   "metadata": {},
   "outputs": [
    {
     "data": {
      "image/png": "[encoded data removed]",
      "text/plain": [
       "<Figure size 1500x700 with 1 Axes>"
      ]
     },
     "metadata": {},
     "output_type": "display_data"
    }
   ],
   "source": [
    "plt.figure(figsize=(15,7))\n",
    "sns.barplot(data=pizza2_df,x='sales',y='name',orient='h',palette='Reds')   #orient makes it horizontal and  \n",
    "plt.xlabel('Sales')\n",
    "plt.ylabel('Name')\n",
    "plt.title('Best and worst profitable pizzas',fontsize=15);\n",
    "plt.savefig('profit.jpg')"
   ]
  },
  {
   "cell_type": "code",
   "execution_count": 57,
   "id": "a2594e78",
   "metadata": {},
   "outputs": [
    {
     "data": {
      "text/html": [
       "<div>\n",
       "<style scoped>\n",
       "    .dataframe tbody tr th:only-of-type {\n",
       "        vertical-align: middle;\n",
       "    }\n",
       "\n",
       "    .dataframe tbody tr th {\n",
       "        vertical-align: top;\n",
       "    }\n",
       "\n",
       "    .dataframe thead th {\n",
       "        text-align: right;\n",
       "    }\n",
       "</style>\n",
       "<table border=\"1\" class=\"dataframe\">\n",
       "  <thead>\n",
       "    <tr style=\"text-align: right;\">\n",
       "      <th></th>\n",
       "      <th>name</th>\n",
       "      <th>quantity</th>\n",
       "      <th>sales</th>\n",
       "    </tr>\n",
       "  </thead>\n",
       "  <tbody>\n",
       "    <tr>\n",
       "      <th>30</th>\n",
       "      <td>The Thai Chicken Pizza</td>\n",
       "      <td>2371</td>\n",
       "      <td>43434.25</td>\n",
       "    </tr>\n",
       "    <tr>\n",
       "      <th>0</th>\n",
       "      <td>The Barbecue Chicken Pizza</td>\n",
       "      <td>2432</td>\n",
       "      <td>42768.00</td>\n",
       "    </tr>\n",
       "    <tr>\n",
       "      <th>4</th>\n",
       "      <td>The California Chicken Pizza</td>\n",
       "      <td>2370</td>\n",
       "      <td>41409.50</td>\n",
       "    </tr>\n",
       "    <tr>\n",
       "      <th>7</th>\n",
       "      <td>The Classic Deluxe Pizza</td>\n",
       "      <td>2453</td>\n",
       "      <td>38180.50</td>\n",
       "    </tr>\n",
       "    <tr>\n",
       "      <th>26</th>\n",
       "      <td>The Spicy Italian Pizza</td>\n",
       "      <td>1924</td>\n",
       "      <td>34831.25</td>\n",
       "    </tr>\n",
       "    <tr>\n",
       "      <th>25</th>\n",
       "      <td>The Southwest Chicken Pizza</td>\n",
       "      <td>1917</td>\n",
       "      <td>34705.75</td>\n",
       "    </tr>\n",
       "    <tr>\n",
       "      <th>14</th>\n",
       "      <td>The Italian Supreme Pizza</td>\n",
       "      <td>1884</td>\n",
       "      <td>33476.75</td>\n",
       "    </tr>\n",
       "    <tr>\n",
       "      <th>12</th>\n",
       "      <td>The Hawaiian Pizza</td>\n",
       "      <td>2422</td>\n",
       "      <td>32273.25</td>\n",
       "    </tr>\n",
       "    <tr>\n",
       "      <th>9</th>\n",
       "      <td>The Four Cheese Pizza</td>\n",
       "      <td>1902</td>\n",
       "      <td>32265.70</td>\n",
       "    </tr>\n",
       "    <tr>\n",
       "      <th>23</th>\n",
       "      <td>The Sicilian Pizza</td>\n",
       "      <td>1938</td>\n",
       "      <td>30940.50</td>\n",
       "    </tr>\n",
       "    <tr>\n",
       "      <th>20</th>\n",
       "      <td>The Pepperoni Pizza</td>\n",
       "      <td>2418</td>\n",
       "      <td>30161.75</td>\n",
       "    </tr>\n",
       "    <tr>\n",
       "      <th>10</th>\n",
       "      <td>The Greek Pizza</td>\n",
       "      <td>1420</td>\n",
       "      <td>28454.10</td>\n",
       "    </tr>\n",
       "    <tr>\n",
       "      <th>17</th>\n",
       "      <td>The Mexicana Pizza</td>\n",
       "      <td>1484</td>\n",
       "      <td>26780.75</td>\n",
       "    </tr>\n",
       "    <tr>\n",
       "      <th>8</th>\n",
       "      <td>The Five Cheese Pizza</td>\n",
       "      <td>1409</td>\n",
       "      <td>26066.50</td>\n",
       "    </tr>\n",
       "    <tr>\n",
       "      <th>19</th>\n",
       "      <td>The Pepper Salami Pizza</td>\n",
       "      <td>1446</td>\n",
       "      <td>25529.00</td>\n",
       "    </tr>\n",
       "    <tr>\n",
       "      <th>13</th>\n",
       "      <td>The Italian Capocollo Pizza</td>\n",
       "      <td>1438</td>\n",
       "      <td>25094.00</td>\n",
       "    </tr>\n",
       "    <tr>\n",
       "      <th>31</th>\n",
       "      <td>The Vegetables + Vegetables Pizza</td>\n",
       "      <td>1526</td>\n",
       "      <td>24374.75</td>\n",
       "    </tr>\n",
       "    <tr>\n",
       "      <th>22</th>\n",
       "      <td>The Prosciutto and Arugula Pizza</td>\n",
       "      <td>1457</td>\n",
       "      <td>24193.25</td>\n",
       "    </tr>\n",
       "    <tr>\n",
       "      <th>18</th>\n",
       "      <td>The Napolitana Pizza</td>\n",
       "      <td>1464</td>\n",
       "      <td>24087.00</td>\n",
       "    </tr>\n",
       "    <tr>\n",
       "      <th>29</th>\n",
       "      <td>The Spinach and Feta Pizza</td>\n",
       "      <td>1446</td>\n",
       "      <td>23271.25</td>\n",
       "    </tr>\n",
       "    <tr>\n",
       "      <th>1</th>\n",
       "      <td>The Big Meat Pizza</td>\n",
       "      <td>1914</td>\n",
       "      <td>22968.00</td>\n",
       "    </tr>\n",
       "    <tr>\n",
       "      <th>21</th>\n",
       "      <td>The Pepperoni, Mushroom, and Peppers Pizza</td>\n",
       "      <td>1359</td>\n",
       "      <td>18834.50</td>\n",
       "    </tr>\n",
       "    <tr>\n",
       "      <th>5</th>\n",
       "      <td>The Chicken Alfredo Pizza</td>\n",
       "      <td>987</td>\n",
       "      <td>16900.25</td>\n",
       "    </tr>\n",
       "    <tr>\n",
       "      <th>6</th>\n",
       "      <td>The Chicken Pesto Pizza</td>\n",
       "      <td>973</td>\n",
       "      <td>16701.75</td>\n",
       "    </tr>\n",
       "    <tr>\n",
       "      <th>24</th>\n",
       "      <td>The Soppressata Pizza</td>\n",
       "      <td>961</td>\n",
       "      <td>16425.75</td>\n",
       "    </tr>\n",
       "    <tr>\n",
       "      <th>15</th>\n",
       "      <td>The Italian Vegetables Pizza</td>\n",
       "      <td>981</td>\n",
       "      <td>16019.25</td>\n",
       "    </tr>\n",
       "    <tr>\n",
       "      <th>3</th>\n",
       "      <td>The Calabrese Pizza</td>\n",
       "      <td>937</td>\n",
       "      <td>15934.25</td>\n",
       "    </tr>\n",
       "    <tr>\n",
       "      <th>27</th>\n",
       "      <td>The Spinach Pesto Pizza</td>\n",
       "      <td>970</td>\n",
       "      <td>15596.00</td>\n",
       "    </tr>\n",
       "    <tr>\n",
       "      <th>16</th>\n",
       "      <td>The Mediterranean Pizza</td>\n",
       "      <td>934</td>\n",
       "      <td>15360.50</td>\n",
       "    </tr>\n",
       "    <tr>\n",
       "      <th>28</th>\n",
       "      <td>The Spinach Supreme Pizza</td>\n",
       "      <td>950</td>\n",
       "      <td>15277.75</td>\n",
       "    </tr>\n",
       "    <tr>\n",
       "      <th>11</th>\n",
       "      <td>The Green Garden Pizza</td>\n",
       "      <td>997</td>\n",
       "      <td>13955.75</td>\n",
       "    </tr>\n",
       "    <tr>\n",
       "      <th>2</th>\n",
       "      <td>The Brie Carre Pizza</td>\n",
       "      <td>490</td>\n",
       "      <td>11588.50</td>\n",
       "    </tr>\n",
       "  </tbody>\n",
       "</table>\n",
       "</div>"
      ],
      "text/plain": [
       "                                          name  quantity     sales\n",
       "30                      The Thai Chicken Pizza      2371  43434.25\n",
       "0                   The Barbecue Chicken Pizza      2432  42768.00\n",
       "4                 The California Chicken Pizza      2370  41409.50\n",
       "7                     The Classic Deluxe Pizza      2453  38180.50\n",
       "26                     The Spicy Italian Pizza      1924  34831.25\n",
       "25                 The Southwest Chicken Pizza      1917  34705.75\n",
       "14                   The Italian Supreme Pizza      1884  33476.75\n",
       "12                          The Hawaiian Pizza      2422  32273.25\n",
       "9                        The Four Cheese Pizza      1902  32265.70\n",
       "23                          The Sicilian Pizza      1938  30940.50\n",
       "20                         The Pepperoni Pizza      2418  30161.75\n",
       "10                             The Greek Pizza      1420  28454.10\n",
       "17                          The Mexicana Pizza      1484  26780.75\n",
       "8                        The Five Cheese Pizza      1409  26066.50\n",
       "19                     The Pepper Salami Pizza      1446  25529.00\n",
       "13                 The Italian Capocollo Pizza      1438  25094.00\n",
       "31           The Vegetables + Vegetables Pizza      1526  24374.75\n",
       "22            The Prosciutto and Arugula Pizza      1457  24193.25\n",
       "18                        The Napolitana Pizza      1464  24087.00\n",
       "29                  The Spinach and Feta Pizza      1446  23271.25\n",
       "1                           The Big Meat Pizza      1914  22968.00\n",
       "21  The Pepperoni, Mushroom, and Peppers Pizza      1359  18834.50\n",
       "5                    The Chicken Alfredo Pizza       987  16900.25\n",
       "6                      The Chicken Pesto Pizza       973  16701.75\n",
       "24                       The Soppressata Pizza       961  16425.75\n",
       "15                The Italian Vegetables Pizza       981  16019.25\n",
       "3                          The Calabrese Pizza       937  15934.25\n",
       "27                     The Spinach Pesto Pizza       970  15596.00\n",
       "16                     The Mediterranean Pizza       934  15360.50\n",
       "28                   The Spinach Supreme Pizza       950  15277.75\n",
       "11                      The Green Garden Pizza       997  13955.75\n",
       "2                         The Brie Carre Pizza       490  11588.50"
      ]
     },
     "execution_count": 57,
     "metadata": {},
     "output_type": "execute_result"
    }
   ],
   "source": [
    "pizza_df.groupby('name')[['quantity','sales']].sum().reset_index().sort_values(by='sales',ascending=False)"
   ]
  },
  {
   "cell_type": "code",
   "execution_count": 58,
   "id": "f1fab7c5",
   "metadata": {},
   "outputs": [
    {
     "data": {
      "text/html": [
       "<div>\n",
       "<style scoped>\n",
       "    .dataframe tbody tr th:only-of-type {\n",
       "        vertical-align: middle;\n",
       "    }\n",
       "\n",
       "    .dataframe tbody tr th {\n",
       "        vertical-align: top;\n",
       "    }\n",
       "\n",
       "    .dataframe thead th {\n",
       "        text-align: right;\n",
       "    }\n",
       "</style>\n",
       "<table border=\"1\" class=\"dataframe\">\n",
       "  <thead>\n",
       "    <tr style=\"text-align: right;\">\n",
       "      <th></th>\n",
       "      <th>size</th>\n",
       "      <th>quantity</th>\n",
       "      <th>sales</th>\n",
       "      <th>sale_percent</th>\n",
       "    </tr>\n",
       "  </thead>\n",
       "  <tbody>\n",
       "    <tr>\n",
       "      <th>0</th>\n",
       "      <td>L</td>\n",
       "      <td>18956</td>\n",
       "      <td>375318.70</td>\n",
       "      <td>45.89</td>\n",
       "    </tr>\n",
       "    <tr>\n",
       "      <th>1</th>\n",
       "      <td>M</td>\n",
       "      <td>15635</td>\n",
       "      <td>249382.25</td>\n",
       "      <td>30.49</td>\n",
       "    </tr>\n",
       "    <tr>\n",
       "      <th>2</th>\n",
       "      <td>S</td>\n",
       "      <td>14403</td>\n",
       "      <td>178076.50</td>\n",
       "      <td>21.77</td>\n",
       "    </tr>\n",
       "    <tr>\n",
       "      <th>3</th>\n",
       "      <td>XL</td>\n",
       "      <td>552</td>\n",
       "      <td>14076.00</td>\n",
       "      <td>1.72</td>\n",
       "    </tr>\n",
       "    <tr>\n",
       "      <th>4</th>\n",
       "      <td>XXL</td>\n",
       "      <td>28</td>\n",
       "      <td>1006.60</td>\n",
       "      <td>0.12</td>\n",
       "    </tr>\n",
       "  </tbody>\n",
       "</table>\n",
       "</div>"
      ],
      "text/plain": [
       "  size  quantity      sales  sale_percent\n",
       "0    L     18956  375318.70         45.89\n",
       "1    M     15635  249382.25         30.49\n",
       "2    S     14403  178076.50         21.77\n",
       "3   XL       552   14076.00          1.72\n",
       "4  XXL        28    1006.60          0.12"
      ]
     },
     "execution_count": 58,
     "metadata": {},
     "output_type": "execute_result"
    }
   ],
   "source": [
    "size_df = pizza_df.groupby('size')[['quantity','sales']].sum().reset_index()\n",
    "size_df['sale_percent']= round(size_df['sales']/size_df['sales'].sum()*100,2)\n",
    "size_df"
   ]
  },
  {
   "cell_type": "code",
   "execution_count": 59,
   "id": "d844677b",
   "metadata": {},
   "outputs": [
    {
     "data": {
      "image/png": "[encoded data removed]",
      "text/plain": [
       "<Figure size 640x480 with 1 Axes>"
      ]
     },
     "metadata": {},
     "output_type": "display_data"
    }
   ],
   "source": [
    "sns.barplot(data=size_df,x='size',y='quantity',palette='Blues')\n",
    "plt.savefig('size.jpg');"
   ]
  },
  {
   "cell_type": "code",
   "execution_count": 60,
   "id": "743caa77",
   "metadata": {},
   "outputs": [],
   "source": [
    "heat = pizza_df.groupby(['day','hour'])['quantity'].sum().unstack('hour')"
   ]
  },
  {
   "cell_type": "code",
   "execution_count": 61,
   "id": "0ae8c681",
   "metadata": {},
   "outputs": [
    {
     "data": {
      "text/html": [
       "<div>\n",
       "<style scoped>\n",
       "    .dataframe tbody tr th:only-of-type {\n",
       "        vertical-align: middle;\n",
       "    }\n",
       "\n",
       "    .dataframe tbody tr th {\n",
       "        vertical-align: top;\n",
       "    }\n",
       "\n",
       "    .dataframe thead th {\n",
       "        text-align: right;\n",
       "    }\n",
       "</style>\n",
       "<table border=\"1\" class=\"dataframe\">\n",
       "  <thead>\n",
       "    <tr style=\"text-align: right;\">\n",
       "      <th>hour</th>\n",
       "      <th>9</th>\n",
       "      <th>10</th>\n",
       "      <th>11</th>\n",
       "      <th>12</th>\n",
       "      <th>13</th>\n",
       "      <th>14</th>\n",
       "      <th>15</th>\n",
       "      <th>16</th>\n",
       "      <th>17</th>\n",
       "      <th>18</th>\n",
       "      <th>19</th>\n",
       "      <th>20</th>\n",
       "      <th>21</th>\n",
       "      <th>22</th>\n",
       "      <th>23</th>\n",
       "    </tr>\n",
       "    <tr>\n",
       "      <th>day</th>\n",
       "      <th></th>\n",
       "      <th></th>\n",
       "      <th></th>\n",
       "      <th></th>\n",
       "      <th></th>\n",
       "      <th></th>\n",
       "      <th></th>\n",
       "      <th></th>\n",
       "      <th></th>\n",
       "      <th></th>\n",
       "      <th></th>\n",
       "      <th></th>\n",
       "      <th></th>\n",
       "      <th></th>\n",
       "      <th></th>\n",
       "    </tr>\n",
       "  </thead>\n",
       "  <tbody>\n",
       "    <tr>\n",
       "      <th>Friday</th>\n",
       "      <td>NaN</td>\n",
       "      <td>NaN</td>\n",
       "      <td>6449.30</td>\n",
       "      <td>18227.05</td>\n",
       "      <td>17144.55</td>\n",
       "      <td>8583.45</td>\n",
       "      <td>7182.05</td>\n",
       "      <td>9642.15</td>\n",
       "      <td>12622.40</td>\n",
       "      <td>15440.05</td>\n",
       "      <td>12287.05</td>\n",
       "      <td>11659.15</td>\n",
       "      <td>10131.80</td>\n",
       "      <td>6274.20</td>\n",
       "      <td>430.70</td>\n",
       "    </tr>\n",
       "    <tr>\n",
       "      <th>Monday</th>\n",
       "      <td>NaN</td>\n",
       "      <td>50.25</td>\n",
       "      <td>7767.00</td>\n",
       "      <td>18596.10</td>\n",
       "      <td>13292.20</td>\n",
       "      <td>7614.80</td>\n",
       "      <td>6868.80</td>\n",
       "      <td>8907.75</td>\n",
       "      <td>11893.70</td>\n",
       "      <td>11044.70</td>\n",
       "      <td>8853.85</td>\n",
       "      <td>5866.25</td>\n",
       "      <td>4638.15</td>\n",
       "      <td>1869.05</td>\n",
       "      <td>66.95</td>\n",
       "    </tr>\n",
       "    <tr>\n",
       "      <th>Saturday</th>\n",
       "      <td>NaN</td>\n",
       "      <td>52.75</td>\n",
       "      <td>3335.55</td>\n",
       "      <td>10299.80</td>\n",
       "      <td>13001.15</td>\n",
       "      <td>8646.40</td>\n",
       "      <td>8671.55</td>\n",
       "      <td>10588.10</td>\n",
       "      <td>12107.60</td>\n",
       "      <td>14591.25</td>\n",
       "      <td>13956.25</td>\n",
       "      <td>12031.60</td>\n",
       "      <td>9811.15</td>\n",
       "      <td>5579.30</td>\n",
       "      <td>509.95</td>\n",
       "    </tr>\n",
       "    <tr>\n",
       "      <th>Sunday</th>\n",
       "      <td>NaN</td>\n",
       "      <td>37.50</td>\n",
       "      <td>3818.75</td>\n",
       "      <td>9988.80</td>\n",
       "      <td>11452.95</td>\n",
       "      <td>8466.70</td>\n",
       "      <td>8075.85</td>\n",
       "      <td>10092.25</td>\n",
       "      <td>11776.30</td>\n",
       "      <td>11964.25</td>\n",
       "      <td>9435.75</td>\n",
       "      <td>6639.10</td>\n",
       "      <td>5001.35</td>\n",
       "      <td>2384.20</td>\n",
       "      <td>69.75</td>\n",
       "    </tr>\n",
       "    <tr>\n",
       "      <th>Thursday</th>\n",
       "      <td>NaN</td>\n",
       "      <td>86.50</td>\n",
       "      <td>7731.65</td>\n",
       "      <td>19042.20</td>\n",
       "      <td>18807.10</td>\n",
       "      <td>9423.10</td>\n",
       "      <td>7594.30</td>\n",
       "      <td>10795.05</td>\n",
       "      <td>14064.55</td>\n",
       "      <td>13335.85</td>\n",
       "      <td>9639.60</td>\n",
       "      <td>7530.50</td>\n",
       "      <td>3537.50</td>\n",
       "      <td>1896.60</td>\n",
       "      <td>44.00</td>\n",
       "    </tr>\n",
       "    <tr>\n",
       "      <th>Tuesday</th>\n",
       "      <td>83.0</td>\n",
       "      <td>NaN</td>\n",
       "      <td>7147.05</td>\n",
       "      <td>18364.85</td>\n",
       "      <td>16889.00</td>\n",
       "      <td>8084.65</td>\n",
       "      <td>6922.50</td>\n",
       "      <td>10449.70</td>\n",
       "      <td>10980.50</td>\n",
       "      <td>10403.80</td>\n",
       "      <td>9960.95</td>\n",
       "      <td>7943.85</td>\n",
       "      <td>4470.45</td>\n",
       "      <td>2433.50</td>\n",
       "      <td>NaN</td>\n",
       "    </tr>\n",
       "    <tr>\n",
       "      <th>Wednesday</th>\n",
       "      <td>NaN</td>\n",
       "      <td>76.65</td>\n",
       "      <td>8686.50</td>\n",
       "      <td>17359.10</td>\n",
       "      <td>15478.75</td>\n",
       "      <td>8382.30</td>\n",
       "      <td>7677.25</td>\n",
       "      <td>9580.40</td>\n",
       "      <td>12792.40</td>\n",
       "      <td>12516.95</td>\n",
       "      <td>8495.45</td>\n",
       "      <td>6544.95</td>\n",
       "      <td>4439.40</td>\n",
       "      <td>2378.30</td>\n",
       "      <td>NaN</td>\n",
       "    </tr>\n",
       "  </tbody>\n",
       "</table>\n",
       "</div>"
      ],
      "text/plain": [
       "hour         9      10       11        12        13       14       15  \\\n",
       "day                                                                     \n",
       "Friday      NaN    NaN  6449.30  18227.05  17144.55  8583.45  7182.05   \n",
       "Monday      NaN  50.25  7767.00  18596.10  13292.20  7614.80  6868.80   \n",
       "Saturday    NaN  52.75  3335.55  10299.80  13001.15  8646.40  8671.55   \n",
       "Sunday      NaN  37.50  3818.75   9988.80  11452.95  8466.70  8075.85   \n",
       "Thursday    NaN  86.50  7731.65  19042.20  18807.10  9423.10  7594.30   \n",
       "Tuesday    83.0    NaN  7147.05  18364.85  16889.00  8084.65  6922.50   \n",
       "Wednesday   NaN  76.65  8686.50  17359.10  15478.75  8382.30  7677.25   \n",
       "\n",
       "hour             16        17        18        19        20        21  \\\n",
       "day                                                                     \n",
       "Friday      9642.15  12622.40  15440.05  12287.05  11659.15  10131.80   \n",
       "Monday      8907.75  11893.70  11044.70   8853.85   5866.25   4638.15   \n",
       "Saturday   10588.10  12107.60  14591.25  13956.25  12031.60   9811.15   \n",
       "Sunday     10092.25  11776.30  11964.25   9435.75   6639.10   5001.35   \n",
       "Thursday   10795.05  14064.55  13335.85   9639.60   7530.50   3537.50   \n",
       "Tuesday    10449.70  10980.50  10403.80   9960.95   7943.85   4470.45   \n",
       "Wednesday   9580.40  12792.40  12516.95   8495.45   6544.95   4439.40   \n",
       "\n",
       "hour            22      23  \n",
       "day                         \n",
       "Friday     6274.20  430.70  \n",
       "Monday     1869.05   66.95  \n",
       "Saturday   5579.30  509.95  \n",
       "Sunday     2384.20   69.75  \n",
       "Thursday   1896.60   44.00  \n",
       "Tuesday    2433.50     NaN  \n",
       "Wednesday  2378.30     NaN  "
      ]
     },
     "execution_count": 61,
     "metadata": {},
     "output_type": "execute_result"
    }
   ],
   "source": [
    "pizza_df.groupby(['day','hour'])['sales'].sum().unstack('hour')"
   ]
  },
  {
   "cell_type": "code",
   "execution_count": 62,
   "id": "0541f61b",
   "metadata": {},
   "outputs": [
    {
     "data": {
      "image/png": "[encoded data removed]",
      "text/plain": [
       "<Figure size 1500x700 with 2 Axes>"
      ]
     },
     "metadata": {},
     "output_type": "display_data"
    }
   ],
   "source": [
    "plt.figure(figsize=(15,7))\n",
    "sns.heatmap(heat,cmap='Blues')\n",
    "plt.savefig('heat.jpg')"
   ]
  },
  {
   "cell_type": "code",
   "execution_count": null,
   "id": "02542540",
   "metadata": {},
   "outputs": [],
   "source": []
  },
  {
   "cell_type": "code",
   "execution_count": null,
   "id": "559f3fce",
   "metadata": {},
   "outputs": [],
   "source": []
  },
  {
   "cell_type": "code",
   "execution_count": null,
   "id": "e0f43226",
   "metadata": {},
   "outputs": [],
   "source": []
  }
 ],
 "metadata": {
  "kernelspec": {
   "display_name": "Python 3 (ipykernel)",
   "language": "python",
   "name": "python3"
  },
  "language_info": {
   "codemirror_mode": {
    "name": "ipython",
    "version": 3
   },
   "file_extension": ".py",
   "mimetype": "text/x-python",
   "name": "python",
   "nbconvert_exporter": "python",
   "pygments_lexer": "ipython3",
   "version": "3.11.7"
  }
 },
 "nbformat": 4,
 "nbformat_minor": 5
}
